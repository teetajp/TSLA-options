{
 "cells": [
  {
   "cell_type": "code",
   "id": "initial_id",
   "metadata": {
    "collapsed": true,
    "ExecuteTime": {
     "end_time": "2024-04-11T16:44:34.472348Z",
     "start_time": "2024-04-11T16:44:34.470643Z"
    }
   },
   "source": [
    "import numpy as np\n",
    "import pandas as pd\n",
    "import matplotlib.pyplot as plt\n",
    "import sklearn\n",
    "import torch"
   ],
   "outputs": [],
   "execution_count": 80
  },
  {
   "metadata": {},
   "cell_type": "markdown",
   "source": "## Data Cleaning & Preprocessing",
   "id": "1583ec137a61cdf7"
  },
  {
   "cell_type": "code",
   "source": [
    "# Load the data into a DataFrame\n",
    "dateformat_str = \"%Y-%m-%d %H:%M\"\n",
    "data = pd.read_csv('data/tsla_2019_2022.csv', na_values=[' '], skipinitialspace=True, date_format=dateformat_str, parse_dates=True) # some missing values in the dataset are given as an empty space\n",
    "\n",
    "# Remove leading and trailing whitespace and square brackets from column names\n",
    "data.columns = data.columns.str.strip('data.columns.str.strip(\" []\")')\n",
    "\n",
    "# Display the column names\n",
    "print(\"Column names:\", data.columns)\n",
    "\n",
    "print(\"Shape of data:\", data.shape)"
   ],
   "metadata": {
    "collapsed": false,
    "ExecuteTime": {
     "end_time": "2024-04-11T16:44:41.350393Z",
     "start_time": "2024-04-11T16:44:34.658165Z"
    }
   },
   "id": "823a82ef32fc048b",
   "outputs": [
    {
     "name": "stdout",
     "output_type": "stream",
     "text": [
      "Column names: Index(['QUOTE_UNIXTIME', 'QUOTE_READTIME', 'QUOTE_DATE', 'QUOTE_TIME_HOURS',\n",
      "       'UNDERLYING_LAST', 'EXPIRE_DATE', 'EXPIRE_UNIX', 'DTE', 'C_DELTA',\n",
      "       'C_GAMMA', 'C_VEGA', 'C_THETA', 'C_RHO', 'C_IV', 'C_VOLUME', 'C_LAST',\n",
      "       'C_SIZE', 'C_BID', 'C_ASK', 'STRIKE', 'P_BID', 'P_ASK', 'P_SIZE',\n",
      "       'P_LAST', 'P_DELTA', 'P_GAMMA', 'P_VEGA', 'P_THETA', 'P_RHO', 'P_IV',\n",
      "       'P_VOLUME', 'STRIKE_DISTANCE', 'STRIKE_DISTANCE_PCT'],\n",
      "      dtype='object')\n",
      "Shape of data: (2659259, 33)\n"
     ]
    }
   ],
   "execution_count": 81
  },
  {
   "metadata": {
    "ExecuteTime": {
     "end_time": "2024-04-11T16:44:41.761383Z",
     "start_time": "2024-04-11T16:44:41.352678Z"
    }
   },
   "cell_type": "code",
   "source": [
    "# Convert cols with date/time to datetime data type\n",
    "data[\"QUOTE_READTIME\"] = pd.to_datetime(data[\"QUOTE_READTIME\"], format=\"%Y-%m-%d %H:%M\", exact=True)\n",
    "data[\"QUOTE_DATE\"] = pd.to_datetime(data[\"QUOTE_DATE\"], format=\"%Y-%m-%d\", exact=True)\n",
    "data[\"EXPIRE_DATE\"] = pd.to_datetime(data[\"EXPIRE_DATE\"], format=\"%Y-%m-%d\", exact=True)\n",
    "# can use .dt.tz_localize(tz=\"US/Eastern\") to set to Eastern time then convert to local timezone if we want to\n",
    "data.info()"
   ],
   "id": "e262da2c5f6c1f72",
   "outputs": [
    {
     "name": "stdout",
     "output_type": "stream",
     "text": [
      "<class 'pandas.core.frame.DataFrame'>\n",
      "RangeIndex: 2659259 entries, 0 to 2659258\n",
      "Data columns (total 33 columns):\n",
      " #   Column               Dtype         \n",
      "---  ------               -----         \n",
      " 0   QUOTE_UNIXTIME       int64         \n",
      " 1   QUOTE_READTIME       datetime64[ns]\n",
      " 2   QUOTE_DATE           datetime64[ns]\n",
      " 3   QUOTE_TIME_HOURS     float64       \n",
      " 4   UNDERLYING_LAST      float64       \n",
      " 5   EXPIRE_DATE          datetime64[ns]\n",
      " 6   EXPIRE_UNIX          int64         \n",
      " 7   DTE                  float64       \n",
      " 8   C_DELTA              float64       \n",
      " 9   C_GAMMA              float64       \n",
      " 10  C_VEGA               float64       \n",
      " 11  C_THETA              float64       \n",
      " 12  C_RHO                float64       \n",
      " 13  C_IV                 float64       \n",
      " 14  C_VOLUME             float64       \n",
      " 15  C_LAST               float64       \n",
      " 16  C_SIZE               object        \n",
      " 17  C_BID                float64       \n",
      " 18  C_ASK                float64       \n",
      " 19  STRIKE               float64       \n",
      " 20  P_BID                float64       \n",
      " 21  P_ASK                float64       \n",
      " 22  P_SIZE               object        \n",
      " 23  P_LAST               float64       \n",
      " 24  P_DELTA              float64       \n",
      " 25  P_GAMMA              float64       \n",
      " 26  P_VEGA               float64       \n",
      " 27  P_THETA              float64       \n",
      " 28  P_RHO                float64       \n",
      " 29  P_IV                 float64       \n",
      " 30  P_VOLUME             float64       \n",
      " 31  STRIKE_DISTANCE      float64       \n",
      " 32  STRIKE_DISTANCE_PCT  float64       \n",
      "dtypes: datetime64[ns](3), float64(26), int64(2), object(2)\n",
      "memory usage: 669.5+ MB\n"
     ]
    }
   ],
   "execution_count": 82
  },
  {
   "metadata": {
    "ExecuteTime": {
     "end_time": "2024-04-11T16:44:42.000610Z",
     "start_time": "2024-04-11T16:44:41.762041Z"
    }
   },
   "cell_type": "code",
   "source": [
    "print(data[data.isnull().any(axis=1)].shape)\n",
    "# 897680/2659259 = 0.337 of rows have some missing value in some cols, so we shouldn't drop them since its a large portion of the dataset"
   ],
   "id": "89b5699caf008f60",
   "outputs": [
    {
     "name": "stdout",
     "output_type": "stream",
     "text": [
      "(897680, 33)\n"
     ]
    }
   ],
   "execution_count": 83
  },
  {
   "metadata": {
    "ExecuteTime": {
     "end_time": "2024-04-11T16:44:42.010907Z",
     "start_time": "2024-04-11T16:44:42.001918Z"
    }
   },
   "cell_type": "code",
   "source": [
    "# Display the first few rows of the DataFrame to ensure it loaded correctly\n",
    "data.head()"
   ],
   "id": "7fa473820fd1b6ec",
   "outputs": [
    {
     "data": {
      "text/plain": [
       "   QUOTE_UNIXTIME      QUOTE_READTIME QUOTE_DATE  QUOTE_TIME_HOURS  \\\n",
       "0      1556740800 2019-05-01 16:00:00 2019-05-01              16.0   \n",
       "1      1556740800 2019-05-01 16:00:00 2019-05-01              16.0   \n",
       "2      1556740800 2019-05-01 16:00:00 2019-05-01              16.0   \n",
       "3      1556740800 2019-05-01 16:00:00 2019-05-01              16.0   \n",
       "4      1556740800 2019-05-01 16:00:00 2019-05-01              16.0   \n",
       "\n",
       "   UNDERLYING_LAST EXPIRE_DATE  EXPIRE_UNIX  DTE  C_DELTA  C_GAMMA  ...  \\\n",
       "0           233.98  2019-05-03   1556913600  2.0  0.98465  0.00055  ...   \n",
       "1           233.98  2019-05-03   1556913600  2.0  0.98371  0.00067  ...   \n",
       "2           233.98  2019-05-03   1556913600  2.0  0.98458  0.00069  ...   \n",
       "3           233.98  2019-05-03   1556913600  2.0  0.99187  0.00049  ...   \n",
       "4           233.98  2019-05-03   1556913600  2.0  0.99341  0.00039  ...   \n",
       "\n",
       "   P_LAST  P_DELTA  P_GAMMA   P_VEGA  P_THETA    P_RHO     P_IV  P_VOLUME  \\\n",
       "0    0.01 -0.00071  0.00003  0.00046 -0.00975  0.00000  2.22548     147.0   \n",
       "1    0.02 -0.00109  0.00009  0.00058 -0.01010 -0.00001  2.08349      12.0   \n",
       "2    0.02 -0.00122  0.00012  0.00113 -0.01435  0.00000  2.02359      15.0   \n",
       "3    0.01 -0.00134  0.00009  0.00139 -0.01465  0.00000  1.89504       0.0   \n",
       "4    0.01 -0.00176  0.00008  0.00105 -0.01467  0.00000  1.76812      91.0   \n",
       "\n",
       "   STRIKE_DISTANCE  STRIKE_DISTANCE_PCT  \n",
       "0            104.0                0.444  \n",
       "1             99.0                0.423  \n",
       "2             94.0                0.402  \n",
       "3             89.0                0.380  \n",
       "4             84.0                0.359  \n",
       "\n",
       "[5 rows x 33 columns]"
      ],
      "text/html": [
       "<div>\n",
       "<style scoped>\n",
       "    .dataframe tbody tr th:only-of-type {\n",
       "        vertical-align: middle;\n",
       "    }\n",
       "\n",
       "    .dataframe tbody tr th {\n",
       "        vertical-align: top;\n",
       "    }\n",
       "\n",
       "    .dataframe thead th {\n",
       "        text-align: right;\n",
       "    }\n",
       "</style>\n",
       "<table border=\"1\" class=\"dataframe\">\n",
       "  <thead>\n",
       "    <tr style=\"text-align: right;\">\n",
       "      <th></th>\n",
       "      <th>QUOTE_UNIXTIME</th>\n",
       "      <th>QUOTE_READTIME</th>\n",
       "      <th>QUOTE_DATE</th>\n",
       "      <th>QUOTE_TIME_HOURS</th>\n",
       "      <th>UNDERLYING_LAST</th>\n",
       "      <th>EXPIRE_DATE</th>\n",
       "      <th>EXPIRE_UNIX</th>\n",
       "      <th>DTE</th>\n",
       "      <th>C_DELTA</th>\n",
       "      <th>C_GAMMA</th>\n",
       "      <th>...</th>\n",
       "      <th>P_LAST</th>\n",
       "      <th>P_DELTA</th>\n",
       "      <th>P_GAMMA</th>\n",
       "      <th>P_VEGA</th>\n",
       "      <th>P_THETA</th>\n",
       "      <th>P_RHO</th>\n",
       "      <th>P_IV</th>\n",
       "      <th>P_VOLUME</th>\n",
       "      <th>STRIKE_DISTANCE</th>\n",
       "      <th>STRIKE_DISTANCE_PCT</th>\n",
       "    </tr>\n",
       "  </thead>\n",
       "  <tbody>\n",
       "    <tr>\n",
       "      <th>0</th>\n",
       "      <td>1556740800</td>\n",
       "      <td>2019-05-01 16:00:00</td>\n",
       "      <td>2019-05-01</td>\n",
       "      <td>16.0</td>\n",
       "      <td>233.98</td>\n",
       "      <td>2019-05-03</td>\n",
       "      <td>1556913600</td>\n",
       "      <td>2.0</td>\n",
       "      <td>0.98465</td>\n",
       "      <td>0.00055</td>\n",
       "      <td>...</td>\n",
       "      <td>0.01</td>\n",
       "      <td>-0.00071</td>\n",
       "      <td>0.00003</td>\n",
       "      <td>0.00046</td>\n",
       "      <td>-0.00975</td>\n",
       "      <td>0.00000</td>\n",
       "      <td>2.22548</td>\n",
       "      <td>147.0</td>\n",
       "      <td>104.0</td>\n",
       "      <td>0.444</td>\n",
       "    </tr>\n",
       "    <tr>\n",
       "      <th>1</th>\n",
       "      <td>1556740800</td>\n",
       "      <td>2019-05-01 16:00:00</td>\n",
       "      <td>2019-05-01</td>\n",
       "      <td>16.0</td>\n",
       "      <td>233.98</td>\n",
       "      <td>2019-05-03</td>\n",
       "      <td>1556913600</td>\n",
       "      <td>2.0</td>\n",
       "      <td>0.98371</td>\n",
       "      <td>0.00067</td>\n",
       "      <td>...</td>\n",
       "      <td>0.02</td>\n",
       "      <td>-0.00109</td>\n",
       "      <td>0.00009</td>\n",
       "      <td>0.00058</td>\n",
       "      <td>-0.01010</td>\n",
       "      <td>-0.00001</td>\n",
       "      <td>2.08349</td>\n",
       "      <td>12.0</td>\n",
       "      <td>99.0</td>\n",
       "      <td>0.423</td>\n",
       "    </tr>\n",
       "    <tr>\n",
       "      <th>2</th>\n",
       "      <td>1556740800</td>\n",
       "      <td>2019-05-01 16:00:00</td>\n",
       "      <td>2019-05-01</td>\n",
       "      <td>16.0</td>\n",
       "      <td>233.98</td>\n",
       "      <td>2019-05-03</td>\n",
       "      <td>1556913600</td>\n",
       "      <td>2.0</td>\n",
       "      <td>0.98458</td>\n",
       "      <td>0.00069</td>\n",
       "      <td>...</td>\n",
       "      <td>0.02</td>\n",
       "      <td>-0.00122</td>\n",
       "      <td>0.00012</td>\n",
       "      <td>0.00113</td>\n",
       "      <td>-0.01435</td>\n",
       "      <td>0.00000</td>\n",
       "      <td>2.02359</td>\n",
       "      <td>15.0</td>\n",
       "      <td>94.0</td>\n",
       "      <td>0.402</td>\n",
       "    </tr>\n",
       "    <tr>\n",
       "      <th>3</th>\n",
       "      <td>1556740800</td>\n",
       "      <td>2019-05-01 16:00:00</td>\n",
       "      <td>2019-05-01</td>\n",
       "      <td>16.0</td>\n",
       "      <td>233.98</td>\n",
       "      <td>2019-05-03</td>\n",
       "      <td>1556913600</td>\n",
       "      <td>2.0</td>\n",
       "      <td>0.99187</td>\n",
       "      <td>0.00049</td>\n",
       "      <td>...</td>\n",
       "      <td>0.01</td>\n",
       "      <td>-0.00134</td>\n",
       "      <td>0.00009</td>\n",
       "      <td>0.00139</td>\n",
       "      <td>-0.01465</td>\n",
       "      <td>0.00000</td>\n",
       "      <td>1.89504</td>\n",
       "      <td>0.0</td>\n",
       "      <td>89.0</td>\n",
       "      <td>0.380</td>\n",
       "    </tr>\n",
       "    <tr>\n",
       "      <th>4</th>\n",
       "      <td>1556740800</td>\n",
       "      <td>2019-05-01 16:00:00</td>\n",
       "      <td>2019-05-01</td>\n",
       "      <td>16.0</td>\n",
       "      <td>233.98</td>\n",
       "      <td>2019-05-03</td>\n",
       "      <td>1556913600</td>\n",
       "      <td>2.0</td>\n",
       "      <td>0.99341</td>\n",
       "      <td>0.00039</td>\n",
       "      <td>...</td>\n",
       "      <td>0.01</td>\n",
       "      <td>-0.00176</td>\n",
       "      <td>0.00008</td>\n",
       "      <td>0.00105</td>\n",
       "      <td>-0.01467</td>\n",
       "      <td>0.00000</td>\n",
       "      <td>1.76812</td>\n",
       "      <td>91.0</td>\n",
       "      <td>84.0</td>\n",
       "      <td>0.359</td>\n",
       "    </tr>\n",
       "  </tbody>\n",
       "</table>\n",
       "<p>5 rows × 33 columns</p>\n",
       "</div>"
      ]
     },
     "execution_count": 84,
     "metadata": {},
     "output_type": "execute_result"
    }
   ],
   "execution_count": 84
  },
  {
   "metadata": {
    "ExecuteTime": {
     "end_time": "2024-04-11T16:44:42.174901Z",
     "start_time": "2024-04-11T16:44:42.011679Z"
    }
   },
   "cell_type": "code",
   "source": [
    "agg_underlying = data.groupby('QUOTE_DATE', as_index=False).agg({\n",
    "    'UNDERLYING_LAST': ['mean', 'min', 'max']\n",
    "})\n",
    "\n",
    "plt.figure(figsize=(14, 7))\n",
    "# Plotting Log Returns\n",
    "plt.subplot(3, 1, 1)\n",
    "plt.plot(agg_underlying['QUOTE_DATE'], agg_underlying['UNDERLYING_LAST']['max'], label='Underlying Close Price')\n",
    "plt.title('TSLA Stock Prices')\n",
    "plt.xlabel('Date')\n",
    "plt.ylabel('Closing Price')\n",
    "plt.grid(True)"
   ],
   "id": "626780f6f232aeb7",
   "outputs": [
    {
     "data": {
      "text/plain": [
       "<Figure size 1400x700 with 1 Axes>"
      ],
      "image/png": "[encoded data removed]"
     },
     "metadata": {},
     "output_type": "display_data"
    }
   ],
   "execution_count": 85
  },
  {
   "metadata": {
    "ExecuteTime": {
     "end_time": "2024-04-11T16:44:42.296159Z",
     "start_time": "2024-04-11T16:44:42.175629Z"
    }
   },
   "cell_type": "code",
   "source": [
    "# compare these prices to yfinance's close prices  for the same interval\n",
    "import yfinance as yf\n",
    "\n",
    "# Define the ticker symbol and the time period\n",
    "ticker = \"TSLA\"\n",
    "start_date = \"2019-01-01\"\n",
    "end_date = \"2023-01-01\"\n",
    "\n",
    "# Fetch the historical data\n",
    "data = yf.download(ticker, start=start_date, end=end_date)\n",
    "\n",
    "# Check if data was retrieved (optional)\n",
    "if data.empty:\n",
    "    print(\"No data retrieved. Check your ticker symbol or date range.\")\n",
    "else:\n",
    "    print(\"Data retrieved successfully.\")\n",
    "    \n",
    "# Plotting the closing prices\n",
    "plt.figure(figsize=(10, 5))\n",
    "plt.plot(data['Close'], label='TSLA Close Price')\n",
    "plt.title('TSLA Close Price from 01-01-2019 to 01-01-2023')\n",
    "plt.xlabel('Date')\n",
    "plt.ylabel('Close Price (USD)')\n",
    "plt.legend()\n",
    "plt.grid(True)\n",
    "plt.show()"
   ],
   "id": "ae70ca09a88da28d",
   "outputs": [
    {
     "name": "stderr",
     "output_type": "stream",
     "text": [
      "[*********************100%%**********************]  1 of 1 completed"
     ]
    },
    {
     "name": "stdout",
     "output_type": "stream",
     "text": [
      "Data retrieved successfully.\n"
     ]
    },
    {
     "name": "stderr",
     "output_type": "stream",
     "text": [
      "\n"
     ]
    },
    {
     "data": {
      "text/plain": [
       "<Figure size 1000x500 with 1 Axes>"
      ],
      "image/png": "[encoded data removed]"
     },
     "metadata": {},
     "output_type": "display_data"
    }
   ],
   "execution_count": 86
  },
  {
   "metadata": {},
   "cell_type": "markdown",
   "source": [
    "### Realized Volatility\n",
    "\n",
    "We need to calculate realized/historical volatility as that is the real volatility we want to predict. Implied volatility is calculated through solving for volatility using options price and other inputs at a given time using Black-Scholes and other models."
   ],
   "id": "6b4dcefd198d8656"
  },
  {
   "metadata": {
    "ExecuteTime": {
     "end_time": "2024-04-11T16:44:42.358337Z",
     "start_time": "2024-04-11T16:44:42.297595Z"
    }
   },
   "cell_type": "code",
   "source": [
    "# extract underlying price for each day\n",
    "underlying = data[['QUOTE_DATE', 'UNDERLYING_LAST']]\n",
    "underlying = underlying.drop_duplicates(subset=['QUOTE_DATE'])\n",
    "\n",
    "# Verify there is only one price per date\n",
    "if underlying['QUOTE_DATE'].duplicated().any():\n",
    "    print(\"Warning: There are multiple prices for at least one date.\")\n",
    "else:\n",
    "    print(\"Each date has a unique price.\")\n",
    "\n",
    "# Check if the DataFrame is sorted by 'QUOTE_DATE'\n",
    "if underlying['QUOTE_DATE'].is_monotonic_increasing:\n",
    "    print(\"The DataFrame is sorted by date.\")\n",
    "else:\n",
    "    # underlying['Prev_QUOTE_DATE'] = underlying['QUOTE_DATE'].shift(1)\n",
    "    # unsorted_rows = underlying[underlying['QUOTE_DATE'] < underlying['Prev_QUOTE_DATE']]\n",
    "    # print(\"Adjacent rows that are not sorted:\")\n",
    "    # print(unsorted_rows[['Prev_QUOTE_DATE', 'QUOTE_DATE']])\n",
    "    print(\"The DataFrame is not sorted by date. Sorting now.\")\n",
    "    underlying = underlying.sort_values(by='QUOTE_DATE')\n",
    "\n",
    "\n",
    "\n",
    "# calculate log returns and realized volatility of the underlying\n",
    "window_size = 10  # trading days in rolling window\n",
    "dpy = 252  # trading days per year\n",
    "ann_factor = dpy / window_size\n",
    "# https://stackoverflow.com/questions/43284304/how-to-compute-volatility-standard-deviation-in-rolling-window-in-pandas\n",
    "underlying['LOG_RETURNS'] = np.log(underlying['UNDERLYING_LAST']) - np.log(underlying['UNDERLYING_LAST'].shift(1))\n",
    "underlying['REALIZED_VOL'] = np.sqrt(underlying['LOG_RETURNS'].rolling(window=window_size).var() * ann_factor)"
   ],
   "id": "6fd89bbf861f2c47",
   "outputs": [
    {
     "ename": "KeyError",
     "evalue": "\"None of [Index(['QUOTE_DATE', 'UNDERLYING_LAST'], dtype='object')] are in the [columns]\"",
     "output_type": "error",
     "traceback": [
      "\u001B[0;31m---------------------------------------------------------------------------\u001B[0m",
      "\u001B[0;31mKeyError\u001B[0m                                  Traceback (most recent call last)",
      "Cell \u001B[0;32mIn[87], line 2\u001B[0m\n\u001B[1;32m      1\u001B[0m \u001B[38;5;66;03m# extract underlying price for each day\u001B[39;00m\n\u001B[0;32m----> 2\u001B[0m underlying \u001B[38;5;241m=\u001B[39m data[[\u001B[38;5;124m'\u001B[39m\u001B[38;5;124mQUOTE_DATE\u001B[39m\u001B[38;5;124m'\u001B[39m, \u001B[38;5;124m'\u001B[39m\u001B[38;5;124mUNDERLYING_LAST\u001B[39m\u001B[38;5;124m'\u001B[39m]]\n\u001B[1;32m      3\u001B[0m underlying \u001B[38;5;241m=\u001B[39m underlying\u001B[38;5;241m.\u001B[39mdrop_duplicates(subset\u001B[38;5;241m=\u001B[39m[\u001B[38;5;124m'\u001B[39m\u001B[38;5;124mQUOTE_DATE\u001B[39m\u001B[38;5;124m'\u001B[39m])\n\u001B[1;32m      5\u001B[0m \u001B[38;5;66;03m# Verify there is only one price per date\u001B[39;00m\n",
      "File \u001B[0;32m~/anaconda3/lib/python3.11/site-packages/pandas/core/frame.py:3899\u001B[0m, in \u001B[0;36mDataFrame.__getitem__\u001B[0;34m(self, key)\u001B[0m\n\u001B[1;32m   3897\u001B[0m     \u001B[38;5;28;01mif\u001B[39;00m is_iterator(key):\n\u001B[1;32m   3898\u001B[0m         key \u001B[38;5;241m=\u001B[39m \u001B[38;5;28mlist\u001B[39m(key)\n\u001B[0;32m-> 3899\u001B[0m     indexer \u001B[38;5;241m=\u001B[39m \u001B[38;5;28mself\u001B[39m\u001B[38;5;241m.\u001B[39mcolumns\u001B[38;5;241m.\u001B[39m_get_indexer_strict(key, \u001B[38;5;124m\"\u001B[39m\u001B[38;5;124mcolumns\u001B[39m\u001B[38;5;124m\"\u001B[39m)[\u001B[38;5;241m1\u001B[39m]\n\u001B[1;32m   3901\u001B[0m \u001B[38;5;66;03m# take() does not accept boolean indexers\u001B[39;00m\n\u001B[1;32m   3902\u001B[0m \u001B[38;5;28;01mif\u001B[39;00m \u001B[38;5;28mgetattr\u001B[39m(indexer, \u001B[38;5;124m\"\u001B[39m\u001B[38;5;124mdtype\u001B[39m\u001B[38;5;124m\"\u001B[39m, \u001B[38;5;28;01mNone\u001B[39;00m) \u001B[38;5;241m==\u001B[39m \u001B[38;5;28mbool\u001B[39m:\n",
      "File \u001B[0;32m~/anaconda3/lib/python3.11/site-packages/pandas/core/indexes/base.py:6115\u001B[0m, in \u001B[0;36mIndex._get_indexer_strict\u001B[0;34m(self, key, axis_name)\u001B[0m\n\u001B[1;32m   6112\u001B[0m \u001B[38;5;28;01melse\u001B[39;00m:\n\u001B[1;32m   6113\u001B[0m     keyarr, indexer, new_indexer \u001B[38;5;241m=\u001B[39m \u001B[38;5;28mself\u001B[39m\u001B[38;5;241m.\u001B[39m_reindex_non_unique(keyarr)\n\u001B[0;32m-> 6115\u001B[0m \u001B[38;5;28mself\u001B[39m\u001B[38;5;241m.\u001B[39m_raise_if_missing(keyarr, indexer, axis_name)\n\u001B[1;32m   6117\u001B[0m keyarr \u001B[38;5;241m=\u001B[39m \u001B[38;5;28mself\u001B[39m\u001B[38;5;241m.\u001B[39mtake(indexer)\n\u001B[1;32m   6118\u001B[0m \u001B[38;5;28;01mif\u001B[39;00m \u001B[38;5;28misinstance\u001B[39m(key, Index):\n\u001B[1;32m   6119\u001B[0m     \u001B[38;5;66;03m# GH 42790 - Preserve name from an Index\u001B[39;00m\n",
      "File \u001B[0;32m~/anaconda3/lib/python3.11/site-packages/pandas/core/indexes/base.py:6176\u001B[0m, in \u001B[0;36mIndex._raise_if_missing\u001B[0;34m(self, key, indexer, axis_name)\u001B[0m\n\u001B[1;32m   6174\u001B[0m     \u001B[38;5;28;01mif\u001B[39;00m use_interval_msg:\n\u001B[1;32m   6175\u001B[0m         key \u001B[38;5;241m=\u001B[39m \u001B[38;5;28mlist\u001B[39m(key)\n\u001B[0;32m-> 6176\u001B[0m     \u001B[38;5;28;01mraise\u001B[39;00m \u001B[38;5;167;01mKeyError\u001B[39;00m(\u001B[38;5;124mf\u001B[39m\u001B[38;5;124m\"\u001B[39m\u001B[38;5;124mNone of [\u001B[39m\u001B[38;5;132;01m{\u001B[39;00mkey\u001B[38;5;132;01m}\u001B[39;00m\u001B[38;5;124m] are in the [\u001B[39m\u001B[38;5;132;01m{\u001B[39;00maxis_name\u001B[38;5;132;01m}\u001B[39;00m\u001B[38;5;124m]\u001B[39m\u001B[38;5;124m\"\u001B[39m)\n\u001B[1;32m   6178\u001B[0m not_found \u001B[38;5;241m=\u001B[39m \u001B[38;5;28mlist\u001B[39m(ensure_index(key)[missing_mask\u001B[38;5;241m.\u001B[39mnonzero()[\u001B[38;5;241m0\u001B[39m]]\u001B[38;5;241m.\u001B[39munique())\n\u001B[1;32m   6179\u001B[0m \u001B[38;5;28;01mraise\u001B[39;00m \u001B[38;5;167;01mKeyError\u001B[39;00m(\u001B[38;5;124mf\u001B[39m\u001B[38;5;124m\"\u001B[39m\u001B[38;5;132;01m{\u001B[39;00mnot_found\u001B[38;5;132;01m}\u001B[39;00m\u001B[38;5;124m not in index\u001B[39m\u001B[38;5;124m\"\u001B[39m)\n",
      "\u001B[0;31mKeyError\u001B[0m: \"None of [Index(['QUOTE_DATE', 'UNDERLYING_LAST'], dtype='object')] are in the [columns]\""
     ]
    }
   ],
   "execution_count": 87
  },
  {
   "metadata": {},
   "cell_type": "code",
   "source": [
    "print(underlying['REALIZED_VOL'].unique())\n",
    "underlying.dropna(inplace=True)"
   ],
   "id": "7f5cae660f1a7ec7",
   "outputs": [],
   "execution_count": null
  },
  {
   "metadata": {},
   "cell_type": "code",
   "source": "underlying.shape",
   "id": "19de30a91e953e81",
   "outputs": [],
   "execution_count": null
  },
  {
   "metadata": {},
   "cell_type": "code",
   "source": [
    "last_n_days = 1000\n",
    "\n",
    "plt.figure(figsize=(14, 7))\n",
    "# Plotting Log Returns\n",
    "plt.subplot(3, 1, 1)\n",
    "plt.plot(underlying['QUOTE_DATE'][-last_n_days:], underlying['UNDERLYING_LAST'][-last_n_days:], label='Underlying Close Price')\n",
    "plt.title('TSLA Stock Prices')\n",
    "plt.xlabel('Date')\n",
    "plt.ylabel('Closing Price')\n",
    "plt.grid(True)\n",
    "\n",
    "# Plotting Log Returns\n",
    "plt.subplot(3, 1, 2)\n",
    "plt.plot(underlying['QUOTE_DATE'][-last_n_days:], underlying['LOG_RETURNS'][-last_n_days:], label='Log Returns')\n",
    "plt.title('Daily Log Returns')\n",
    "plt.xlabel('Date')\n",
    "plt.ylabel('Log Return')\n",
    "plt.grid(True)\n",
    "\n",
    "# Plotting Realized Volatility\n",
    "plt.subplot(3, 1, 3)\n",
    "plt.plot(underlying['QUOTE_DATE'][-last_n_days:], underlying['REALIZED_VOL'][-last_n_days:], label='Realized Volatility', color='red')\n",
    "plt.title('Realized Volatility (10-day window)')\n",
    "plt.xlabel('Date')\n",
    "plt.ylabel('Volatility')\n",
    "plt.grid(True)\n",
    "\n",
    "plt.tight_layout()\n",
    "plt.show()"
   ],
   "id": "372d5328ccae0918",
   "outputs": [],
   "execution_count": null
  },
  {
   "metadata": {},
   "cell_type": "code",
   "source": "",
   "id": "444504aeebb5408b",
   "outputs": [],
   "execution_count": null
  },
  {
   "metadata": {},
   "cell_type": "code",
   "source": [
    "# Assuming 'df' is your DataFrame and you're checking for outliers in a column named 'column_name'\n",
    "Q1 = underlying['LOG_RETURNS'].quantile(0.25)\n",
    "Q3 = underlying['LOG_RETURNS'].quantile(0.75)\n",
    "IQR = Q3 - Q1\n",
    "\n",
    "# Define limits for outliers\n",
    "lower_bound = Q1 - 1.5 * IQR\n",
    "upper_bound = Q3 + 1.5 * IQR\n",
    "\n",
    "# Finding outliers\n",
    "outliers = underlying[(underlying['LOG_RETURNS'] < lower_bound) | (underlying['LOG_RETURNS'] > upper_bound)]\n",
    "outliers"
   ],
   "id": "bba9381f7428e63a",
   "outputs": [],
   "execution_count": null
  },
  {
   "metadata": {},
   "cell_type": "code",
   "source": "underlying[('2020-08-01' < underlying['QUOTE_DATE']) & (underlying['QUOTE_DATE'] < '2020-10-01')]",
   "id": "46ef2a36ce7826d0",
   "outputs": [],
   "execution_count": null
  },
  {
   "metadata": {},
   "cell_type": "code",
   "source": [
    "# Join the 'log_returns' and 'realized_vol' columns back with the full options dataframe\n",
    "data = pd.merge(data, underlying[['QUOTE_DATE', 'LOG_RETURNS', 'REALIZED_VOL']], on='QUOTE_DATE', how='left')\n",
    "data['PREV_REALIZED_VOL'] = data['REALIZED_VOL'].shift(1)\n",
    "data.head()"
   ],
   "id": "8f64248cbe6bca00",
   "outputs": [],
   "execution_count": null
  },
  {
   "metadata": {},
   "cell_type": "code",
   "source": "data[data['PREV_REALIZED_VOL'] != data['REALIZED_VOL']]",
   "id": "13e2e11f3ce762ba",
   "outputs": [],
   "execution_count": null
  },
  {
   "metadata": {},
   "cell_type": "code",
   "source": [
    "print(data[data['PREV_REALIZED_VOL'].isna() | data['REALIZED_VOL'].isna() | data['LOG_RETURNS'].isna()].shape)\n",
    "data = data.dropna(subset=['REALIZED_VOL', 'LOG_RETURNS', 'PREV_REALIZED_VOL'])\n",
    "print(data[data['PREV_REALIZED_VOL'].isna() | data['REALIZED_VOL'].isna() | data['LOG_RETURNS'].isna()].shape)\n",
    "print(data.shape)"
   ],
   "id": "17da240c17320854",
   "outputs": [],
   "execution_count": null
  },
  {
   "metadata": {},
   "cell_type": "code",
   "source": [
    "vol_df = data.groupby('QUOTE_DATE', as_index=False).agg({\n",
    "    'REALIZED_VOL': ['mean'],\n",
    "})"
   ],
   "id": "3acd194f714630ea",
   "outputs": [],
   "execution_count": null
  },
  {
   "metadata": {},
   "cell_type": "code",
   "source": "vol_df.info()",
   "id": "5d358161848aed42",
   "outputs": [],
   "execution_count": null
  },
  {
   "metadata": {},
   "cell_type": "code",
   "source": [
    "data['C_MID'] = (data['C_BID'] + data['C_ASK']) / 2\n",
    "data['P_MID'] = (data['P_BID'] + data['P_ASK']) / 2\n",
    "data.head()"
   ],
   "id": "cb90901997ee1038",
   "outputs": [],
   "execution_count": null
  },
  {
   "metadata": {},
   "cell_type": "code",
   "source": "data['REALIZED_VOL'].unique()",
   "id": "65da7da58cd73899",
   "outputs": [],
   "execution_count": null
  },
  {
   "metadata": {},
   "cell_type": "code",
   "source": "underlying.shape # total unique dates",
   "id": "6acd48ef2a955361",
   "outputs": [],
   "execution_count": null
  },
  {
   "metadata": {},
   "cell_type": "code",
   "source": [
    "date_counts = data.groupby('QUOTE_DATE').size()\n",
    "\n",
    "# Print the result to verify\n",
    "print(date_counts) # check if all dates have the same row count => they don't"
   ],
   "id": "6b1881eb40932fe",
   "outputs": [],
   "execution_count": null
  },
  {
   "metadata": {},
   "cell_type": "markdown",
   "source": "Now, I want to parse for ATM strikes. To do this, I will only be looking at options where the delta is between 45-55, or -45 to -55.",
   "id": "bacc11516992484b"
  },
  {
   "metadata": {},
   "cell_type": "code",
   "source": [
    "# Filter data to include only ATM options (where delta is closest to 0.5)\n",
    "# Ensure column names match exactly what's in the DataFrame\n",
    "atm_options = data[(data['C_DELTA'] >= 0.45) & (data['C_DELTA'] <= 0.55) & (data['P_DELTA'] >= -0.55) & (data['P_DELTA'] <= -0.45)]\n",
    "\n",
    "# Display the first few rows of the filtered DataFrame\n",
    "print(\"Number of rows in atm_options:\", len(atm_options))\n",
    "print(atm_options.head())\n",
    "print(atm_options.tail())"
   ],
   "id": "a902719813555601",
   "outputs": [],
   "execution_count": null
  },
  {
   "metadata": {},
   "cell_type": "code",
   "source": [
    "# Check for other missing values or zero values (zero isn't necessarily bad, but missing values for sure are)\n",
    "zero_count = (atm_options == 0).sum() / atm_options.shape[0]\n",
    "missing_count = atm_options.isna().sum() / atm_options.shape[0]\n",
    "\n",
    "print(f\"Number of zero values per feature: {zero_count}\")\n",
    "print(f\"Number of missing values per feature: {missing_count}\")"
   ],
   "id": "55e48e1c21bfdeef",
   "outputs": [],
   "execution_count": null
  },
  {
   "metadata": {},
   "cell_type": "markdown",
   "source": [
    "Zero values shouldn't be a concern, but missing values are.\n",
    "\n",
    "We can drop rows with missing values if we choose to select them as inputs, otherwise just ignore them because we will only select relevant columns anyways.\n",
    "\n",
    "Note that for since we only want to predict realized volatility, we don't need to do anything with the validation and test data frame due to them already being complete (dropped missing values already, and those DFs only have two columns)."
   ],
   "id": "7f37fe0b9e3c30e3"
  },
  {
   "metadata": {},
   "cell_type": "code",
   "source": "atm_options.info()",
   "id": "53a84b31c315d60",
   "outputs": [],
   "execution_count": null
  },
  {
   "metadata": {},
   "cell_type": "code",
   "source": [
    "# FEATURE SELECTION\n",
    "# XXX: can't have multiple rows in one date because LSTM doesn't know what a \"date\" is and uses timesteps to keep track of \"dates\" instead, so either we need to transform all the different strike prices and DTE for each date into columns, or need to aggregate them somehow; right now I will just aggregate or remove them altogether\n",
    "# TODO: try different features or ways to increase data given to the model\n",
    "selected_features = ['QUOTE_UNIXTIME', 'REALIZED_VOL', 'LOG_RETURNS', 'STRIKE', 'C_MID', 'PREV_REALIZED_VOL', 'C_IV', 'P_IV', 'P_MID'] # use QUOTE_UNIXTIME instead of QUOTE_DATE for ML to be able to parse\n",
    "selected_data = atm_options[selected_features]\n",
    "print(f\"selected_data shape pre-aggregation: {selected_data.shape[0]}\")\n",
    "\n",
    "# Engineering features to summarize multiple entries per date\n",
    "selected_data = selected_data.groupby('QUOTE_UNIXTIME', as_index=True).agg({\n",
    "    'REALIZED_VOL': ['mean'], # should all be the same anyways for each date\n",
    "    'PREV_REALIZED_VOL': ['mean'], # should all be the same anyways for each date\n",
    "    'STRIKE': ['mean', 'min', 'max'],  # Aggregate strike prices\n",
    "    'C_MID': ['mean', 'min', 'max'],  # Last price of calls (midpoint between bid/ask)\n",
    "    'P_MID': ['mean', 'min', 'max'],  # Last price of puts (midpoint between bid/ask)\n",
    "    'LOG_RETURNS': ['mean'], # should all be the same anyways for each date??\n",
    "    'C_IV': ['min', 'mean', 'max'],\n",
    "    'P_IV': ['min', 'mean', 'max'],\n",
    "    # Add more features as necessary\n",
    "}).reset_index()\n",
    "\n",
    "\n",
    "print(f\"Number of rows in selected_data set pre-drop: {selected_data.shape[0]}\")\n",
    "# selected_data.dropna(inplace=True)\n",
    "print(f\"selected_data shape post-drop: {selected_data.shape}\")\n",
    "selected_data.info()\n",
    "\n",
    "# data['C_VOLUME'].fillna(0, inplace=True) # option to fill with 0s"
   ],
   "id": "56be77241e79c802",
   "outputs": [],
   "execution_count": null
  },
  {
   "metadata": {},
   "cell_type": "markdown",
   "source": [
    "## Training-Validation-Test Set Split\n",
    "Split the dataset into training, validation, and testing set using 85-14-1% split by dates in chronological order (row count for over all the dates is not uniform)."
   ],
   "id": "ac7752c2f83e7bdb"
  },
  {
   "metadata": {},
   "cell_type": "code",
   "source": [
    "# Ensure the DataFrame is sorted by date\n",
    "selected_data.sort_values('QUOTE_UNIXTIME', inplace=True)\n",
    "\n",
    "# Find unique dates and the proportionate splits\n",
    "unique_dates = selected_data['QUOTE_UNIXTIME'].unique()\n",
    "total_dates = len(unique_dates)\n",
    "\n",
    "# Calculate split indices\n",
    "train_end_idx = int(total_dates * 0.8)\n",
    "val_end_idx = train_end_idx + int(total_dates * 0.1)\n",
    "\n",
    "# Dates for splitting\n",
    "train_dates = unique_dates[:train_end_idx]\n",
    "val_dates = unique_dates[train_end_idx:val_end_idx]\n",
    "test_dates = unique_dates[val_end_idx:]\n",
    "\n",
    "# Create the splits\n",
    "train_df = selected_data[selected_data['QUOTE_UNIXTIME'].isin(train_dates)]\n",
    "val_df = selected_data[selected_data['QUOTE_UNIXTIME'].isin(val_dates)]\n",
    "test_df = selected_data[selected_data['QUOTE_UNIXTIME'].isin(test_dates)]\n",
    "full_df = selected_data.copy()\n",
    "\n",
    "# Verify the splits\n",
    "print(f\"Training Set: {train_df.shape}\")\n",
    "print(f\"Validation Set: {val_df.shape}\")\n",
    "print(f\"Testing Set: {test_df.shape}\")"
   ],
   "id": "f211909b4903e176",
   "outputs": [],
   "execution_count": null
  },
  {
   "metadata": {},
   "cell_type": "markdown",
   "source": "### Data Normalization",
   "id": "615cef473571abc3"
  },
  {
   "metadata": {},
   "cell_type": "code",
   "source": [
    "from sklearn.preprocessing import MinMaxScaler\n",
    "from torch.utils.data import TensorDataset, DataLoader"
   ],
   "id": "f671ec4420834b8e",
   "outputs": [],
   "execution_count": null
  },
  {
   "metadata": {},
   "cell_type": "code",
   "source": "train_df.head()",
   "id": "882560b47dcfec3a",
   "outputs": [],
   "execution_count": null
  },
  {
   "metadata": {},
   "cell_type": "code",
   "source": "train_df.info()",
   "id": "772167ee0fcf3077",
   "outputs": [],
   "execution_count": null
  },
  {
   "metadata": {},
   "cell_type": "code",
   "source": "selected_data.head()",
   "id": "d03e4f4e771d1a40",
   "outputs": [],
   "execution_count": null
  },
  {
   "metadata": {},
   "cell_type": "code",
   "source": [
    "# get index of output feature\n",
    "output_feature_index = None\n",
    "for idx, tf in enumerate(selected_data.columns.get_loc('REALIZED_VOL')):\n",
    "    if tf == True:\n",
    "        output_feature_index = idx\n",
    "        print(output_feature_index)\n",
    "if output_feature_index is None:\n",
    "    print(\"Cant find output feature index\")\n",
    "    \n",
    "def create_sequences(df, window_size, output_feature_index):\n",
    "    sequences = []\n",
    "    output = []\n",
    "    data_array = df.to_numpy()\n",
    "    # data_array = df.drop(columns=['QUOTE_UNIXTIME']).to_numpy()  # Assuming 'QUOTE_UNIXTIME' is the date column\n",
    "\n",
    "    for i in range(len(data_array) - window_size):\n",
    "        sequences.append(data_array[i:(i + window_size)])\n",
    "        output.append(data_array[i + window_size, output_feature_index])\n",
    "\n",
    "    return torch.tensor(sequences, dtype=torch.float32), torch.tensor(output, dtype=torch.float32)\n",
    "\n",
    "# Scaling features (excluding date/time and realized_vol)\n",
    "scaler = MinMaxScaler()\n",
    "# TODO: XXX: ensure first two columns are date and output which we will exclude from transformatin \n",
    "train_df_scaled = train_df.copy()\n",
    "train_df_scaled.iloc[:, 2:] = scaler.fit_transform(train_df.iloc[:, 2:])\n",
    "\n",
    "val_df_scaled = val_df.copy()\n",
    "val_df_scaled.iloc[:, 2:] = scaler.transform(val_df.iloc[:, 2:])\n",
    "\n",
    "test_df_scaled = test_df.copy()\n",
    "test_df_scaled.iloc[:, 2:] = scaler.transform(test_df.iloc[:, 2:])\n",
    "\n",
    "full_df_scaled = full_df\n",
    "full_df_scaled.iloc[:, 2:] = scaler.transform(full_df.iloc[:, 2:])\n",
    "\n",
    "train_df_scaled.drop(['QUOTE_UNIXTIME'], axis=1, inplace=True)\n",
    "val_df_scaled.drop(['QUOTE_UNIXTIME'], axis=1, inplace=True)\n",
    "test_df_scaled.drop(['QUOTE_UNIXTIME'], axis=1, inplace=True)\n",
    "full_df_scaled.drop(['QUOTE_UNIXTIME'], axis=1, inplace=True)\n",
    "\n",
    "\n",
    "# Create sequences for PyTorch\n",
    "X_train, y_train = create_sequences(train_df_scaled, window_size, output_feature_index-1)\n",
    "X_val, y_val = create_sequences(val_df_scaled, window_size, output_feature_index-1)\n",
    "X_test, y_test = create_sequences(test_df_scaled, window_size, output_feature_index-1)\n",
    "X_full, y_full = create_sequences(full_df_scaled, window_size, output_feature_index-1)\n",
    "\n",
    "# Create TensorDatasets\n",
    "train_dataset = TensorDataset(X_train, y_train)\n",
    "val_dataset = TensorDataset(X_val, y_val)\n",
    "test_dataset = TensorDataset(X_test, y_test)\n",
    "full_dataset = TensorDataset(X_full, y_full)\n",
    "\n",
    "# Create DataLoaders\n",
    "batch_size = 16\n",
    "train_loader = DataLoader(train_dataset, batch_size=batch_size, shuffle=False)\n",
    "val_loader = DataLoader(val_dataset, batch_size=batch_size, shuffle=False)\n",
    "test_loader = DataLoader(test_dataset, batch_size=batch_size, shuffle=False)\n",
    "full_loader = DataLoader(full_dataset, batch_size=batch_size, shuffle=False)"
   ],
   "id": "53206350eb882471",
   "outputs": [],
   "execution_count": null
  },
  {
   "metadata": {},
   "cell_type": "code",
   "source": "train_df['PREV_REALIZED_VOL'].iloc[11]",
   "id": "e4ab515feaf0e314",
   "outputs": [],
   "execution_count": null
  },
  {
   "metadata": {},
   "cell_type": "code",
   "source": "torch.tensor(train_df.to_numpy())[10,1]",
   "id": "612a617741c7eec9",
   "outputs": [],
   "execution_count": null
  },
  {
   "metadata": {},
   "cell_type": "code",
   "source": "y_train[0]",
   "id": "93f2d140be7cbc84",
   "outputs": [],
   "execution_count": null
  },
  {
   "metadata": {},
   "cell_type": "code",
   "source": "train_df",
   "id": "7cd50c8f9ddee5e1",
   "outputs": [],
   "execution_count": null
  },
  {
   "metadata": {},
   "cell_type": "markdown",
   "source": [
    "## Neural Network Implementation\n",
    "\n",
    "Will need to train one model for calls and one for puts\n",
    "Features:\n",
    "- historical/realized volatility\n",
    "- log returns\n",
    "- ~~underlying price~~\n",
    "- ~~option price (bid/ask)~~\n",
    "- ~~DTE (days till expiration)~~ \n",
    "- ~~volume (?)~~\n",
    "- ~~delta (?)~~\n",
    "- implied volatility\n",
    "- QUOTE_UNIXTIME\n",
    "\n",
    "Loss function: MSE"
   ],
   "id": "6ece4585db2fbfcd"
  },
  {
   "metadata": {},
   "cell_type": "code",
   "source": [
    "import torch\n",
    "import torch.nn as nn\n",
    "import torch.optim as optim\n",
    "\n",
    "class VolNet(nn.Module):\n",
    "    def __init__(self, num_inputs):\n",
    "        super(VolNet, self).__init__()\n",
    "        self.num_inputs = num_inputs\n",
    "        self.num_layers = 2\n",
    "        self.hidden_size = 32\n",
    "        self.num_outputs = 1\n",
    "        \n",
    "        self.lstm = nn.LSTM(input_size=num_inputs, hidden_size=self.hidden_size, num_layers=self.num_layers, batch_first=True) # up to 3 layers for LSTM\n",
    "        self.dense = nn.Linear(in_features=self.hidden_size, out_features=self.num_outputs) # fully-connected layer\n",
    "        \n",
    "        # self.last_h = self.initHidden()\n",
    "        # self.last_c = self.initHidden()\n",
    "        \n",
    "    def forward(self, x):\n",
    "        # x should be of shape (batch, sequence, features)\n",
    "        batch_size = x.shape[0]\n",
    "        lstm_out, (hn, cn) = self.lstm(x, (self.initHidden(batch_size), self.initHidden(batch_size)))\n",
    "        # self.last_h, self.last_c = hn, cn\n",
    "        last_time_step_out = lstm_out[:, -1, :]  # Use the output from the last time step\n",
    "        return self.dense(last_time_step_out)\n",
    "    \n",
    "    def initHidden(self, batch_size):\n",
    "        if not batch_size:\n",
    "            batch_size = self.hidden_size * self.num_layers\n",
    "        return torch.zeros(self.num_layers, batch_size, self.hidden_size).requires_grad_()\n",
    "        "
   ],
   "id": "8b8c8ccc7411429b",
   "outputs": [],
   "execution_count": null
  },
  {
   "metadata": {},
   "cell_type": "code",
   "source": "X_train.shape",
   "id": "36c61d711f3f3193",
   "outputs": [],
   "execution_count": null
  },
  {
   "metadata": {},
   "cell_type": "code",
   "source": [
    "model = VolNet(num_inputs=X_train.shape[-1]) # Adjust num_inputs based on your feature count\n",
    "\n",
    "criterion = nn.MSELoss()\n",
    "optimizer = optim.Adam(model.parameters(), lr=0.001)\n",
    "num_epochs = 50\n",
    "\n",
    "\n",
    "val_yhat = []\n",
    "val_y = []\n",
    "\n",
    "for epoch in range(num_epochs):\n",
    "    model.train()  # Set model to training mode\n",
    "    total_loss = 0\n",
    "    for inputs, labels in train_loader:\n",
    "        optimizer.zero_grad()\n",
    "        # Forward pass\n",
    "        outputs = model(inputs).squeeze()\n",
    "        labels.squeeze_()\n",
    "        loss = criterion(outputs, labels)\n",
    "        # Backward and optimize\n",
    "        loss.backward()\n",
    "        optimizer.step()\n",
    "        total_loss += loss.item()\n",
    "\n",
    "    avg_train_loss = total_loss / len(train_loader)\n",
    "    \n",
    "    # Validation phase\n",
    "    model.eval()  # Set model to evaluation mode\n",
    "    total_val_loss = 0\n",
    "    with torch.no_grad():\n",
    "        for inputs, labels in val_loader:\n",
    "            outputs = model(inputs).squeeze()\n",
    "            labels.squeeze_()\n",
    "            loss = criterion(outputs, labels)\n",
    "            total_val_loss += loss.item()\n",
    "            \n",
    "            val_yhat.append(outputs.detach().cpu().numpy())\n",
    "            val_y.append(labels.detach().cpu().numpy())\n",
    "            \n",
    "            \n",
    "    avg_val_loss = total_val_loss / len(val_loader)\n",
    "\n",
    "    print(f'Epoch [{epoch+1}/{num_epochs}], Train Loss: {avg_train_loss:.4f}, Val Loss: {avg_val_loss:.4f}')\n",
    "\n",
    "# # Can't test from this because the trainer reruns the data on many iterations, so data wont be sequential?\n",
    "# val_yhat = np.hstack(val_yhat)\n",
    "# val_y = np.hstack(val_y)"
   ],
   "id": "a842fc36b2f6a11",
   "outputs": [],
   "execution_count": null
  },
  {
   "metadata": {},
   "cell_type": "code",
   "source": "# val_y.shape",
   "id": "f7c9e82dd89f5993",
   "outputs": [],
   "execution_count": null
  },
  {
   "metadata": {},
   "cell_type": "code",
   "source": [
    "# # put the predicted and actual realized volatility side by side to compare\n",
    "# val_compare = pd.DataFrame({'Predicted_RVol': val_yhat, 'Actual_RVol': val_y})\n",
    "# print(val_compare.to_string())"
   ],
   "id": "9e57ea2fa06accbe",
   "outputs": [],
   "execution_count": null
  },
  {
   "metadata": {},
   "cell_type": "code",
   "source": [
    "# Testing Phase\n",
    "# Assuming test_dataset is an instance of TensorDataset or similar\n",
    "\n",
    "test_yhat = []\n",
    "test_y = []\n",
    "\n",
    "def evaluate_model(model, test_loader, criterion):\n",
    "    model.eval()  # Set the model to evaluation mode\n",
    "    total_loss = 0\n",
    "    with torch.no_grad():  # Turn off gradients for validation, saves memory and computations\n",
    "        for inputs, labels in test_loader:\n",
    "            outputs = model(inputs).squeeze()\n",
    "            labels.squeeze_()\n",
    "            loss = criterion(outputs, labels)\n",
    "            total_loss += loss.item()\n",
    "            test_yhat.append(outputs.detach().cpu().numpy())\n",
    "            test_y.append(labels.detach().cpu().numpy())\n",
    "    \n",
    "    avg_loss = total_loss / len(test_loader)\n",
    "    print(f'Test Loss: {avg_loss:.4f}')\n",
    "    return avg_loss\n",
    "\n",
    "\n",
    "# Example of how you might call this function\n",
    "test_loss = evaluate_model(model, test_loader, criterion)\n",
    "\n",
    "test_yhat = np.hstack(test_yhat)\n",
    "test_y = np.hstack(test_y)"
   ],
   "id": "6ec72400b03e1683",
   "outputs": [],
   "execution_count": null
  },
  {
   "metadata": {},
   "cell_type": "code",
   "source": [
    "# put the predicted and actual realized volatility side by side to compare\n",
    "test_compare = pd.DataFrame({'Predicted_RVol': test_yhat, 'Actual_RVol': test_y})\n",
    "print(test_compare.to_string())"
   ],
   "id": "d1f5664873bf1829",
   "outputs": [],
   "execution_count": null
  },
  {
   "metadata": {},
   "cell_type": "markdown",
   "source": "## Result Visualization",
   "id": "a8ae6710dd783ecd"
  },
  {
   "metadata": {},
   "cell_type": "code",
   "source": "unique_dates_df = pd.to_datetime(unique_dates, unit='s', errors='coerce')",
   "id": "393a85e70c50bfe",
   "outputs": [],
   "execution_count": null
  },
  {
   "metadata": {},
   "cell_type": "code",
   "source": [
    "# Assuming dates_train_np holds the timestamps and you have a window_size (or sequence_length)\n",
    "\n",
    "# adjusted_dates = dates_train_np[sequence_length - 1:]  # Skip the first sequence_length - 1 timestamps\n",
    "ignore_first_n = 10\n",
    "viz_dates = test_dates[window_size+ignore_first_n:]\n",
    "viz_y = test_y[ignore_first_n:]\n",
    "viz_yhat = test_yhat[ignore_first_n:]\n",
    "# Plotting actual vs predicted realized volatility\n",
    "plt.figure(figsize=(12, 6))\n",
    "plt.plot(viz_dates, viz_y, label='Actual Realized Volatility', marker='o', linestyle='-')\n",
    "plt.plot(viz_dates, viz_yhat, label='Predicted Realized Volatility', marker='x', linestyle='--')\n",
    "plt.title('Actual vs Predicted Realized Volatility Over Time')\n",
    "plt.xlabel('Time')\n",
    "plt.ylabel('Realized Volatility')\n",
    "plt.legend()\n",
    "plt.gcf().autofmt_xdate()  # Improve formatting of date labels\n",
    "plt.show()"
   ],
   "id": "6f2ae3f4f0bb8150",
   "outputs": [],
   "execution_count": null
  },
  {
   "metadata": {},
   "cell_type": "markdown",
   "source": [
    "## Full test over whole dataset\n",
    "\n"
   ],
   "id": "16be7dde0420677f"
  },
  {
   "metadata": {},
   "cell_type": "code",
   "source": [
    "from torch.utils.data import ConcatDataset\n",
    "\n",
    "# Assuming train_dataset, val_dataset, test_dataset are TensorDataset instances\n",
    "# Concatenate the datasets\n",
    "# full_dataset = ConcatDataset([train_dataset, val_dataset, test_dataset])\n",
    "\n",
    "# Create a DataLoader for the full dataset\n",
    "# full_loader = DataLoader(full_dataset, batch_size=32, shuffle=False)  # No need to shuffle for visualization"
   ],
   "id": "d2199380f68a552",
   "outputs": [],
   "execution_count": null
  },
  {
   "metadata": {},
   "cell_type": "code",
   "source": [
    "import matplotlib.pyplot as plt\n",
    "\n",
    "def plot_predictions(model, data_loader):\n",
    "    model.eval()  # Set the model to evaluation mode\n",
    "    predictions = []\n",
    "    actuals = []\n",
    "    with torch.no_grad():\n",
    "        for X_batch, y_batch in data_loader:\n",
    "            outputs = model(X_batch).squeeze()\n",
    "            # Assuming outputs and y_batch are already properly scaled\n",
    "            predictions.extend(outputs.view(-1).cpu().numpy())  # Flatten and move to CPU\n",
    "            actuals.extend(y_batch.view(-1).cpu().numpy())\n",
    "    \n",
    "    \n",
    "    # Calculate the limits for the y-axis to exclude outliers\n",
    "    # upper_limit = np.percentile(actuals, 99)  # Adjust the percentile as needed\n",
    "    # lower_limit = np.percentile(actuals, 1)   # Adjust the percentile as needed\n",
    "\n",
    "    # Plotting the results\n",
    "    plt.figure(figsize=(15, 7))\n",
    "    # plt.plot(unique_dates_df[10:], selected_data['REALIZED_VOL'][10:], label='Actual Realized Volatility (original)', color='green', alpha=0.7, linewidth=1)\n",
    "    plt.plot(unique_dates_df[10:], actuals, label='Actual Realized Volatility', color='navy', linewidth=1)\n",
    "    plt.plot(unique_dates_df[10:], predictions, label='Predicted Realized Volatility', color='red', alpha=0.7, linewidth=1)\n",
    "    # plt.plot(unique_dates_df[10:], full_df['C_IV']['mean'][window_size:], label='Call Implied Volatility (avg. over ATM strike prices)', color='green', alpha=0.7, linewidth=1)\n",
    "    # plt.plot(unique_dates_df[10:], full_df['P_IV']['mean'][window_size:], label='Put Implied Volatility (avg. over ATM strike prices)', color='grey', alpha=0.7, linewidth=1) \n",
    "    plt.title('Comparison of Predicted and Actual Realized Volatility')\n",
    "    plt.xlabel('Data Point Index')\n",
    "    plt.ylabel('Realized Volatility')\n",
    "    # plt.ylim([lower_limit, upper_limit])  # Set the y-axis to not show the outlier\n",
    "    plt.legend()\n",
    "    plt.show()\n",
    "# Assuming 'model' is already trained and ready to be evaluated\n",
    "plot_predictions(model, full_loader)\n",
    "\n",
    "# TODO: ensure using previous historical volatility to predict future only; avoid using volatility of the day we are predicting."
   ],
   "id": "90b290bc93a27fcc",
   "outputs": [],
   "execution_count": null
  },
  {
   "metadata": {},
   "cell_type": "markdown",
   "source": "",
   "id": "b1962663396d81f7"
  },
  {
   "metadata": {},
   "cell_type": "code",
   "source": "full_df.info()",
   "id": "ab17d1c65dace5e2",
   "outputs": [],
   "execution_count": null
  },
  {
   "metadata": {},
   "cell_type": "code",
   "source": "full_df['C_IV']['mean']",
   "id": "4b832f08bc8089d5",
   "outputs": [],
   "execution_count": null
  },
  {
   "metadata": {},
   "cell_type": "code",
   "source": "",
   "id": "e5d7fed5a01b7c6e",
   "outputs": [],
   "execution_count": null
  }
 ],
 "metadata": {
  "kernelspec": {
   "display_name": "Python 3",
   "language": "python",
   "name": "python3"
  },
  "language_info": {
   "codemirror_mode": {
    "name": "ipython",
    "version": 2
   },
   "file_extension": ".py",
   "mimetype": "text/x-python",
   "name": "python",
   "nbconvert_exporter": "python",
   "pygments_lexer": "ipython2",
   "version": "2.7.6"
  }
 },
 "nbformat": 4,
 "nbformat_minor": 5
}
