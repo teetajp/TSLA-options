{
 "cells": [
  {
   "cell_type": "code",
   "id": "initial_id",
   "metadata": {
    "collapsed": true,
    "ExecuteTime": {
     "end_time": "2024-04-10T08:17:13.321381Z",
     "start_time": "2024-04-10T08:17:11.606379Z"
    }
   },
   "source": [
    "import numpy as np\n",
    "import pandas as pd\n",
    "import matplotlib.pyplot as plt\n",
    "import sklearn\n",
    "import torch"
   ],
   "outputs": [],
   "execution_count": 1
  },
  {
   "metadata": {},
   "cell_type": "markdown",
   "source": "## Data Cleaning & Preprocessing",
   "id": "1583ec137a61cdf7"
  },
  {
   "cell_type": "code",
   "source": [
    "# Load the data into a DataFrame\n",
    "dateformat_str = \"%Y-%m-%d %H:%M\"\n",
    "data = pd.read_csv('data/tsla_2019_2022.csv', na_values=[' '], skipinitialspace=True, date_format=dateformat_str, parse_dates=True) # some missing values in the dataset are given as an empty space\n",
    "\n",
    "# Remove leading and trailing whitespace and square brackets from column names\n",
    "data.columns = data.columns.str.strip('data.columns.str.strip(\" []\")')\n",
    "\n",
    "# Display the column names\n",
    "print(\"Column names:\", data.columns)\n",
    "\n",
    "print(\"Shape of data:\", data.shape)"
   ],
   "metadata": {
    "collapsed": false,
    "ExecuteTime": {
     "end_time": "2024-04-10T08:17:18.920479Z",
     "start_time": "2024-04-10T08:17:13.322338Z"
    }
   },
   "id": "823a82ef32fc048b",
   "outputs": [
    {
     "name": "stdout",
     "output_type": "stream",
     "text": [
      "Column names: Index(['QUOTE_UNIXTIME', 'QUOTE_READTIME', 'QUOTE_DATE', 'QUOTE_TIME_HOURS',\n",
      "       'UNDERLYING_LAST', 'EXPIRE_DATE', 'EXPIRE_UNIX', 'DTE', 'C_DELTA',\n",
      "       'C_GAMMA', 'C_VEGA', 'C_THETA', 'C_RHO', 'C_IV', 'C_VOLUME', 'C_LAST',\n",
      "       'C_SIZE', 'C_BID', 'C_ASK', 'STRIKE', 'P_BID', 'P_ASK', 'P_SIZE',\n",
      "       'P_LAST', 'P_DELTA', 'P_GAMMA', 'P_VEGA', 'P_THETA', 'P_RHO', 'P_IV',\n",
      "       'P_VOLUME', 'STRIKE_DISTANCE', 'STRIKE_DISTANCE_PCT'],\n",
      "      dtype='object')\n",
      "Shape of data: (2659259, 33)\n"
     ]
    }
   ],
   "execution_count": 2
  },
  {
   "metadata": {
    "ExecuteTime": {
     "end_time": "2024-04-10T08:17:19.315509Z",
     "start_time": "2024-04-10T08:17:18.921410Z"
    }
   },
   "cell_type": "code",
   "source": [
    "# Convert cols with date/time to datetime data type\n",
    "data[\"QUOTE_READTIME\"] = pd.to_datetime(data[\"QUOTE_READTIME\"], format=\"%Y-%m-%d %H:%M\", exact=True)\n",
    "data[\"QUOTE_DATE\"] = pd.to_datetime(data[\"QUOTE_DATE\"], format=\"%Y-%m-%d\", exact=True)\n",
    "data[\"EXPIRE_DATE\"] = pd.to_datetime(data[\"EXPIRE_DATE\"], format=\"%Y-%m-%d\", exact=True)\n",
    "# can use .dt.tz_localize(tz=\"US/Eastern\") to set to Eastern time then convert to local timezone if we want to\n",
    "data.info()"
   ],
   "id": "e262da2c5f6c1f72",
   "outputs": [
    {
     "name": "stdout",
     "output_type": "stream",
     "text": [
      "<class 'pandas.core.frame.DataFrame'>\n",
      "RangeIndex: 2659259 entries, 0 to 2659258\n",
      "Data columns (total 33 columns):\n",
      " #   Column               Dtype         \n",
      "---  ------               -----         \n",
      " 0   QUOTE_UNIXTIME       int64         \n",
      " 1   QUOTE_READTIME       datetime64[ns]\n",
      " 2   QUOTE_DATE           datetime64[ns]\n",
      " 3   QUOTE_TIME_HOURS     float64       \n",
      " 4   UNDERLYING_LAST      float64       \n",
      " 5   EXPIRE_DATE          datetime64[ns]\n",
      " 6   EXPIRE_UNIX          int64         \n",
      " 7   DTE                  float64       \n",
      " 8   C_DELTA              float64       \n",
      " 9   C_GAMMA              float64       \n",
      " 10  C_VEGA               float64       \n",
      " 11  C_THETA              float64       \n",
      " 12  C_RHO                float64       \n",
      " 13  C_IV                 float64       \n",
      " 14  C_VOLUME             float64       \n",
      " 15  C_LAST               float64       \n",
      " 16  C_SIZE               object        \n",
      " 17  C_BID                float64       \n",
      " 18  C_ASK                float64       \n",
      " 19  STRIKE               float64       \n",
      " 20  P_BID                float64       \n",
      " 21  P_ASK                float64       \n",
      " 22  P_SIZE               object        \n",
      " 23  P_LAST               float64       \n",
      " 24  P_DELTA              float64       \n",
      " 25  P_GAMMA              float64       \n",
      " 26  P_VEGA               float64       \n",
      " 27  P_THETA              float64       \n",
      " 28  P_RHO                float64       \n",
      " 29  P_IV                 float64       \n",
      " 30  P_VOLUME             float64       \n",
      " 31  STRIKE_DISTANCE      float64       \n",
      " 32  STRIKE_DISTANCE_PCT  float64       \n",
      "dtypes: datetime64[ns](3), float64(26), int64(2), object(2)\n",
      "memory usage: 669.5+ MB\n"
     ]
    }
   ],
   "execution_count": 3
  },
  {
   "metadata": {
    "ExecuteTime": {
     "end_time": "2024-04-10T08:17:19.549428Z",
     "start_time": "2024-04-10T08:17:19.316786Z"
    }
   },
   "cell_type": "code",
   "source": [
    "print(data[data.isnull().any(axis=1)].shape)\n",
    "# 897680/2659259 = 0.337 of rows have some missing value in some cols, so we shouldn't drop them since its a large portion of the dataset"
   ],
   "id": "89b5699caf008f60",
   "outputs": [
    {
     "name": "stdout",
     "output_type": "stream",
     "text": [
      "(897680, 33)\n"
     ]
    }
   ],
   "execution_count": 4
  },
  {
   "metadata": {
    "ExecuteTime": {
     "end_time": "2024-04-10T08:17:19.561097Z",
     "start_time": "2024-04-10T08:17:19.550073Z"
    }
   },
   "cell_type": "code",
   "source": [
    "# Display the first few rows of the DataFrame to ensure it loaded correctly\n",
    "data.head()"
   ],
   "id": "7fa473820fd1b6ec",
   "outputs": [
    {
     "data": {
      "text/plain": [
       "   QUOTE_UNIXTIME      QUOTE_READTIME QUOTE_DATE  QUOTE_TIME_HOURS  \\\n",
       "0      1556740800 2019-05-01 16:00:00 2019-05-01              16.0   \n",
       "1      1556740800 2019-05-01 16:00:00 2019-05-01              16.0   \n",
       "2      1556740800 2019-05-01 16:00:00 2019-05-01              16.0   \n",
       "3      1556740800 2019-05-01 16:00:00 2019-05-01              16.0   \n",
       "4      1556740800 2019-05-01 16:00:00 2019-05-01              16.0   \n",
       "\n",
       "   UNDERLYING_LAST EXPIRE_DATE  EXPIRE_UNIX  DTE  C_DELTA  C_GAMMA  ...  \\\n",
       "0           233.98  2019-05-03   1556913600  2.0  0.98465  0.00055  ...   \n",
       "1           233.98  2019-05-03   1556913600  2.0  0.98371  0.00067  ...   \n",
       "2           233.98  2019-05-03   1556913600  2.0  0.98458  0.00069  ...   \n",
       "3           233.98  2019-05-03   1556913600  2.0  0.99187  0.00049  ...   \n",
       "4           233.98  2019-05-03   1556913600  2.0  0.99341  0.00039  ...   \n",
       "\n",
       "   P_LAST  P_DELTA  P_GAMMA   P_VEGA  P_THETA    P_RHO     P_IV  P_VOLUME  \\\n",
       "0    0.01 -0.00071  0.00003  0.00046 -0.00975  0.00000  2.22548     147.0   \n",
       "1    0.02 -0.00109  0.00009  0.00058 -0.01010 -0.00001  2.08349      12.0   \n",
       "2    0.02 -0.00122  0.00012  0.00113 -0.01435  0.00000  2.02359      15.0   \n",
       "3    0.01 -0.00134  0.00009  0.00139 -0.01465  0.00000  1.89504       0.0   \n",
       "4    0.01 -0.00176  0.00008  0.00105 -0.01467  0.00000  1.76812      91.0   \n",
       "\n",
       "   STRIKE_DISTANCE  STRIKE_DISTANCE_PCT  \n",
       "0            104.0                0.444  \n",
       "1             99.0                0.423  \n",
       "2             94.0                0.402  \n",
       "3             89.0                0.380  \n",
       "4             84.0                0.359  \n",
       "\n",
       "[5 rows x 33 columns]"
      ],
      "text/html": [
       "<div>\n",
       "<style scoped>\n",
       "    .dataframe tbody tr th:only-of-type {\n",
       "        vertical-align: middle;\n",
       "    }\n",
       "\n",
       "    .dataframe tbody tr th {\n",
       "        vertical-align: top;\n",
       "    }\n",
       "\n",
       "    .dataframe thead th {\n",
       "        text-align: right;\n",
       "    }\n",
       "</style>\n",
       "<table border=\"1\" class=\"dataframe\">\n",
       "  <thead>\n",
       "    <tr style=\"text-align: right;\">\n",
       "      <th></th>\n",
       "      <th>QUOTE_UNIXTIME</th>\n",
       "      <th>QUOTE_READTIME</th>\n",
       "      <th>QUOTE_DATE</th>\n",
       "      <th>QUOTE_TIME_HOURS</th>\n",
       "      <th>UNDERLYING_LAST</th>\n",
       "      <th>EXPIRE_DATE</th>\n",
       "      <th>EXPIRE_UNIX</th>\n",
       "      <th>DTE</th>\n",
       "      <th>C_DELTA</th>\n",
       "      <th>C_GAMMA</th>\n",
       "      <th>...</th>\n",
       "      <th>P_LAST</th>\n",
       "      <th>P_DELTA</th>\n",
       "      <th>P_GAMMA</th>\n",
       "      <th>P_VEGA</th>\n",
       "      <th>P_THETA</th>\n",
       "      <th>P_RHO</th>\n",
       "      <th>P_IV</th>\n",
       "      <th>P_VOLUME</th>\n",
       "      <th>STRIKE_DISTANCE</th>\n",
       "      <th>STRIKE_DISTANCE_PCT</th>\n",
       "    </tr>\n",
       "  </thead>\n",
       "  <tbody>\n",
       "    <tr>\n",
       "      <th>0</th>\n",
       "      <td>1556740800</td>\n",
       "      <td>2019-05-01 16:00:00</td>\n",
       "      <td>2019-05-01</td>\n",
       "      <td>16.0</td>\n",
       "      <td>233.98</td>\n",
       "      <td>2019-05-03</td>\n",
       "      <td>1556913600</td>\n",
       "      <td>2.0</td>\n",
       "      <td>0.98465</td>\n",
       "      <td>0.00055</td>\n",
       "      <td>...</td>\n",
       "      <td>0.01</td>\n",
       "      <td>-0.00071</td>\n",
       "      <td>0.00003</td>\n",
       "      <td>0.00046</td>\n",
       "      <td>-0.00975</td>\n",
       "      <td>0.00000</td>\n",
       "      <td>2.22548</td>\n",
       "      <td>147.0</td>\n",
       "      <td>104.0</td>\n",
       "      <td>0.444</td>\n",
       "    </tr>\n",
       "    <tr>\n",
       "      <th>1</th>\n",
       "      <td>1556740800</td>\n",
       "      <td>2019-05-01 16:00:00</td>\n",
       "      <td>2019-05-01</td>\n",
       "      <td>16.0</td>\n",
       "      <td>233.98</td>\n",
       "      <td>2019-05-03</td>\n",
       "      <td>1556913600</td>\n",
       "      <td>2.0</td>\n",
       "      <td>0.98371</td>\n",
       "      <td>0.00067</td>\n",
       "      <td>...</td>\n",
       "      <td>0.02</td>\n",
       "      <td>-0.00109</td>\n",
       "      <td>0.00009</td>\n",
       "      <td>0.00058</td>\n",
       "      <td>-0.01010</td>\n",
       "      <td>-0.00001</td>\n",
       "      <td>2.08349</td>\n",
       "      <td>12.0</td>\n",
       "      <td>99.0</td>\n",
       "      <td>0.423</td>\n",
       "    </tr>\n",
       "    <tr>\n",
       "      <th>2</th>\n",
       "      <td>1556740800</td>\n",
       "      <td>2019-05-01 16:00:00</td>\n",
       "      <td>2019-05-01</td>\n",
       "      <td>16.0</td>\n",
       "      <td>233.98</td>\n",
       "      <td>2019-05-03</td>\n",
       "      <td>1556913600</td>\n",
       "      <td>2.0</td>\n",
       "      <td>0.98458</td>\n",
       "      <td>0.00069</td>\n",
       "      <td>...</td>\n",
       "      <td>0.02</td>\n",
       "      <td>-0.00122</td>\n",
       "      <td>0.00012</td>\n",
       "      <td>0.00113</td>\n",
       "      <td>-0.01435</td>\n",
       "      <td>0.00000</td>\n",
       "      <td>2.02359</td>\n",
       "      <td>15.0</td>\n",
       "      <td>94.0</td>\n",
       "      <td>0.402</td>\n",
       "    </tr>\n",
       "    <tr>\n",
       "      <th>3</th>\n",
       "      <td>1556740800</td>\n",
       "      <td>2019-05-01 16:00:00</td>\n",
       "      <td>2019-05-01</td>\n",
       "      <td>16.0</td>\n",
       "      <td>233.98</td>\n",
       "      <td>2019-05-03</td>\n",
       "      <td>1556913600</td>\n",
       "      <td>2.0</td>\n",
       "      <td>0.99187</td>\n",
       "      <td>0.00049</td>\n",
       "      <td>...</td>\n",
       "      <td>0.01</td>\n",
       "      <td>-0.00134</td>\n",
       "      <td>0.00009</td>\n",
       "      <td>0.00139</td>\n",
       "      <td>-0.01465</td>\n",
       "      <td>0.00000</td>\n",
       "      <td>1.89504</td>\n",
       "      <td>0.0</td>\n",
       "      <td>89.0</td>\n",
       "      <td>0.380</td>\n",
       "    </tr>\n",
       "    <tr>\n",
       "      <th>4</th>\n",
       "      <td>1556740800</td>\n",
       "      <td>2019-05-01 16:00:00</td>\n",
       "      <td>2019-05-01</td>\n",
       "      <td>16.0</td>\n",
       "      <td>233.98</td>\n",
       "      <td>2019-05-03</td>\n",
       "      <td>1556913600</td>\n",
       "      <td>2.0</td>\n",
       "      <td>0.99341</td>\n",
       "      <td>0.00039</td>\n",
       "      <td>...</td>\n",
       "      <td>0.01</td>\n",
       "      <td>-0.00176</td>\n",
       "      <td>0.00008</td>\n",
       "      <td>0.00105</td>\n",
       "      <td>-0.01467</td>\n",
       "      <td>0.00000</td>\n",
       "      <td>1.76812</td>\n",
       "      <td>91.0</td>\n",
       "      <td>84.0</td>\n",
       "      <td>0.359</td>\n",
       "    </tr>\n",
       "  </tbody>\n",
       "</table>\n",
       "<p>5 rows × 33 columns</p>\n",
       "</div>"
      ]
     },
     "execution_count": 5,
     "metadata": {},
     "output_type": "execute_result"
    }
   ],
   "execution_count": 5
  },
  {
   "metadata": {},
   "cell_type": "markdown",
   "source": [
    "### Realized Volatility\n",
    "\n",
    "We need to calculate realized/historical volatility as that is the real volatility we want to predict. Implied volatility is calculated through solving for volatility using options price and other inputs at a given time using Black-Scholes and other models."
   ],
   "id": "6b4dcefd198d8656"
  },
  {
   "metadata": {
    "ExecuteTime": {
     "end_time": "2024-04-10T08:17:19.583265Z",
     "start_time": "2024-04-10T08:17:19.561735Z"
    }
   },
   "cell_type": "code",
   "source": [
    "# extract underlying price for each day\n",
    "underlying = data[['QUOTE_DATE', 'UNDERLYING_LAST']]\n",
    "underlying = underlying.drop_duplicates(subset=['QUOTE_DATE'])\n",
    "\n",
    "# Verify there is only one price per date\n",
    "if underlying['QUOTE_DATE'].duplicated().any():\n",
    "    print(\"Warning: There are multiple prices for at least one date.\")\n",
    "else:\n",
    "    print(\"Each date has a unique price.\")\n",
    "\n",
    "# Check if the DataFrame is sorted by 'QUOTE_DATE'\n",
    "if underlying['QUOTE_DATE'].is_monotonic_increasing:\n",
    "    print(\"The DataFrame is sorted by date.\")\n",
    "else:\n",
    "    # underlying['Prev_QUOTE_DATE'] = underlying['QUOTE_DATE'].shift(1)\n",
    "    # unsorted_rows = underlying[underlying['QUOTE_DATE'] < underlying['Prev_QUOTE_DATE']]\n",
    "    # print(\"Adjacent rows that are not sorted:\")\n",
    "    # print(unsorted_rows[['Prev_QUOTE_DATE', 'QUOTE_DATE']])\n",
    "    print(\"The DataFrame is not sorted by date. Sorting now.\")\n",
    "    underlying = underlying.sort_values(by='QUOTE_DATE')\n",
    "\n",
    "\n",
    "\n",
    "# calculate log returns and realized volatility of the underlying\n",
    "window_size = 10  # trading days in rolling window\n",
    "dpy = 252  # trading days per year\n",
    "ann_factor = dpy / window_size\n",
    "# https://stackoverflow.com/questions/43284304/how-to-compute-volatility-standard-deviation-in-rolling-window-in-pandas\n",
    "underlying['LOG_RETURNS'] = np.log(underlying['UNDERLYING_LAST']) - np.log(underlying['UNDERLYING_LAST'].shift(1))\n",
    "underlying['REALIZED_VOL'] = np.sqrt(underlying['LOG_RETURNS'].rolling(window=window_size).var() * ann_factor)"
   ],
   "id": "6fd89bbf861f2c47",
   "outputs": [
    {
     "name": "stdout",
     "output_type": "stream",
     "text": [
      "Each date has a unique price.\n",
      "The DataFrame is not sorted by date. Sorting now.\n"
     ]
    }
   ],
   "execution_count": 6
  },
  {
   "metadata": {
    "ExecuteTime": {
     "end_time": "2024-04-10T08:17:19.587063Z",
     "start_time": "2024-04-10T08:17:19.584019Z"
    }
   },
   "cell_type": "code",
   "source": "underlying['REALIZED_VOL'].unique()",
   "id": "7f5cae660f1a7ec7",
   "outputs": [
    {
     "data": {
      "text/plain": [
       "array([       nan, 0.15469482, 0.13626489, ..., 0.25059357, 0.30896178,\n",
       "       0.31070019])"
      ]
     },
     "execution_count": 7,
     "metadata": {},
     "output_type": "execute_result"
    }
   ],
   "execution_count": 7
  },
  {
   "metadata": {
    "ExecuteTime": {
     "end_time": "2024-04-10T08:17:19.795971Z",
     "start_time": "2024-04-10T08:17:19.587676Z"
    }
   },
   "cell_type": "code",
   "source": [
    "# Join the 'log_returns' and 'realized_vol' columns back with the full options dataframe\n",
    "data = pd.merge(data, underlying[['QUOTE_DATE', 'LOG_RETURNS', 'REALIZED_VOL']], on='QUOTE_DATE', how='left')\n",
    "data.head()"
   ],
   "id": "8f64248cbe6bca00",
   "outputs": [
    {
     "data": {
      "text/plain": [
       "   QUOTE_UNIXTIME      QUOTE_READTIME QUOTE_DATE  QUOTE_TIME_HOURS  \\\n",
       "0      1556740800 2019-05-01 16:00:00 2019-05-01              16.0   \n",
       "1      1556740800 2019-05-01 16:00:00 2019-05-01              16.0   \n",
       "2      1556740800 2019-05-01 16:00:00 2019-05-01              16.0   \n",
       "3      1556740800 2019-05-01 16:00:00 2019-05-01              16.0   \n",
       "4      1556740800 2019-05-01 16:00:00 2019-05-01              16.0   \n",
       "\n",
       "   UNDERLYING_LAST EXPIRE_DATE  EXPIRE_UNIX  DTE  C_DELTA  C_GAMMA  ...  \\\n",
       "0           233.98  2019-05-03   1556913600  2.0  0.98465  0.00055  ...   \n",
       "1           233.98  2019-05-03   1556913600  2.0  0.98371  0.00067  ...   \n",
       "2           233.98  2019-05-03   1556913600  2.0  0.98458  0.00069  ...   \n",
       "3           233.98  2019-05-03   1556913600  2.0  0.99187  0.00049  ...   \n",
       "4           233.98  2019-05-03   1556913600  2.0  0.99341  0.00039  ...   \n",
       "\n",
       "   P_GAMMA   P_VEGA  P_THETA    P_RHO     P_IV  P_VOLUME STRIKE_DISTANCE  \\\n",
       "0  0.00003  0.00046 -0.00975  0.00000  2.22548     147.0           104.0   \n",
       "1  0.00009  0.00058 -0.01010 -0.00001  2.08349      12.0            99.0   \n",
       "2  0.00012  0.00113 -0.01435  0.00000  2.02359      15.0            94.0   \n",
       "3  0.00009  0.00139 -0.01465  0.00000  1.89504       0.0            89.0   \n",
       "4  0.00008  0.00105 -0.01467  0.00000  1.76812      91.0            84.0   \n",
       "\n",
       "   STRIKE_DISTANCE_PCT  LOG_RETURNS  REALIZED_VOL  \n",
       "0                0.444     -0.01993         0.124  \n",
       "1                0.423     -0.01993         0.124  \n",
       "2                0.402     -0.01993         0.124  \n",
       "3                0.380     -0.01993         0.124  \n",
       "4                0.359     -0.01993         0.124  \n",
       "\n",
       "[5 rows x 35 columns]"
      ],
      "text/html": [
       "<div>\n",
       "<style scoped>\n",
       "    .dataframe tbody tr th:only-of-type {\n",
       "        vertical-align: middle;\n",
       "    }\n",
       "\n",
       "    .dataframe tbody tr th {\n",
       "        vertical-align: top;\n",
       "    }\n",
       "\n",
       "    .dataframe thead th {\n",
       "        text-align: right;\n",
       "    }\n",
       "</style>\n",
       "<table border=\"1\" class=\"dataframe\">\n",
       "  <thead>\n",
       "    <tr style=\"text-align: right;\">\n",
       "      <th></th>\n",
       "      <th>QUOTE_UNIXTIME</th>\n",
       "      <th>QUOTE_READTIME</th>\n",
       "      <th>QUOTE_DATE</th>\n",
       "      <th>QUOTE_TIME_HOURS</th>\n",
       "      <th>UNDERLYING_LAST</th>\n",
       "      <th>EXPIRE_DATE</th>\n",
       "      <th>EXPIRE_UNIX</th>\n",
       "      <th>DTE</th>\n",
       "      <th>C_DELTA</th>\n",
       "      <th>C_GAMMA</th>\n",
       "      <th>...</th>\n",
       "      <th>P_GAMMA</th>\n",
       "      <th>P_VEGA</th>\n",
       "      <th>P_THETA</th>\n",
       "      <th>P_RHO</th>\n",
       "      <th>P_IV</th>\n",
       "      <th>P_VOLUME</th>\n",
       "      <th>STRIKE_DISTANCE</th>\n",
       "      <th>STRIKE_DISTANCE_PCT</th>\n",
       "      <th>LOG_RETURNS</th>\n",
       "      <th>REALIZED_VOL</th>\n",
       "    </tr>\n",
       "  </thead>\n",
       "  <tbody>\n",
       "    <tr>\n",
       "      <th>0</th>\n",
       "      <td>1556740800</td>\n",
       "      <td>2019-05-01 16:00:00</td>\n",
       "      <td>2019-05-01</td>\n",
       "      <td>16.0</td>\n",
       "      <td>233.98</td>\n",
       "      <td>2019-05-03</td>\n",
       "      <td>1556913600</td>\n",
       "      <td>2.0</td>\n",
       "      <td>0.98465</td>\n",
       "      <td>0.00055</td>\n",
       "      <td>...</td>\n",
       "      <td>0.00003</td>\n",
       "      <td>0.00046</td>\n",
       "      <td>-0.00975</td>\n",
       "      <td>0.00000</td>\n",
       "      <td>2.22548</td>\n",
       "      <td>147.0</td>\n",
       "      <td>104.0</td>\n",
       "      <td>0.444</td>\n",
       "      <td>-0.01993</td>\n",
       "      <td>0.124</td>\n",
       "    </tr>\n",
       "    <tr>\n",
       "      <th>1</th>\n",
       "      <td>1556740800</td>\n",
       "      <td>2019-05-01 16:00:00</td>\n",
       "      <td>2019-05-01</td>\n",
       "      <td>16.0</td>\n",
       "      <td>233.98</td>\n",
       "      <td>2019-05-03</td>\n",
       "      <td>1556913600</td>\n",
       "      <td>2.0</td>\n",
       "      <td>0.98371</td>\n",
       "      <td>0.00067</td>\n",
       "      <td>...</td>\n",
       "      <td>0.00009</td>\n",
       "      <td>0.00058</td>\n",
       "      <td>-0.01010</td>\n",
       "      <td>-0.00001</td>\n",
       "      <td>2.08349</td>\n",
       "      <td>12.0</td>\n",
       "      <td>99.0</td>\n",
       "      <td>0.423</td>\n",
       "      <td>-0.01993</td>\n",
       "      <td>0.124</td>\n",
       "    </tr>\n",
       "    <tr>\n",
       "      <th>2</th>\n",
       "      <td>1556740800</td>\n",
       "      <td>2019-05-01 16:00:00</td>\n",
       "      <td>2019-05-01</td>\n",
       "      <td>16.0</td>\n",
       "      <td>233.98</td>\n",
       "      <td>2019-05-03</td>\n",
       "      <td>1556913600</td>\n",
       "      <td>2.0</td>\n",
       "      <td>0.98458</td>\n",
       "      <td>0.00069</td>\n",
       "      <td>...</td>\n",
       "      <td>0.00012</td>\n",
       "      <td>0.00113</td>\n",
       "      <td>-0.01435</td>\n",
       "      <td>0.00000</td>\n",
       "      <td>2.02359</td>\n",
       "      <td>15.0</td>\n",
       "      <td>94.0</td>\n",
       "      <td>0.402</td>\n",
       "      <td>-0.01993</td>\n",
       "      <td>0.124</td>\n",
       "    </tr>\n",
       "    <tr>\n",
       "      <th>3</th>\n",
       "      <td>1556740800</td>\n",
       "      <td>2019-05-01 16:00:00</td>\n",
       "      <td>2019-05-01</td>\n",
       "      <td>16.0</td>\n",
       "      <td>233.98</td>\n",
       "      <td>2019-05-03</td>\n",
       "      <td>1556913600</td>\n",
       "      <td>2.0</td>\n",
       "      <td>0.99187</td>\n",
       "      <td>0.00049</td>\n",
       "      <td>...</td>\n",
       "      <td>0.00009</td>\n",
       "      <td>0.00139</td>\n",
       "      <td>-0.01465</td>\n",
       "      <td>0.00000</td>\n",
       "      <td>1.89504</td>\n",
       "      <td>0.0</td>\n",
       "      <td>89.0</td>\n",
       "      <td>0.380</td>\n",
       "      <td>-0.01993</td>\n",
       "      <td>0.124</td>\n",
       "    </tr>\n",
       "    <tr>\n",
       "      <th>4</th>\n",
       "      <td>1556740800</td>\n",
       "      <td>2019-05-01 16:00:00</td>\n",
       "      <td>2019-05-01</td>\n",
       "      <td>16.0</td>\n",
       "      <td>233.98</td>\n",
       "      <td>2019-05-03</td>\n",
       "      <td>1556913600</td>\n",
       "      <td>2.0</td>\n",
       "      <td>0.99341</td>\n",
       "      <td>0.00039</td>\n",
       "      <td>...</td>\n",
       "      <td>0.00008</td>\n",
       "      <td>0.00105</td>\n",
       "      <td>-0.01467</td>\n",
       "      <td>0.00000</td>\n",
       "      <td>1.76812</td>\n",
       "      <td>91.0</td>\n",
       "      <td>84.0</td>\n",
       "      <td>0.359</td>\n",
       "      <td>-0.01993</td>\n",
       "      <td>0.124</td>\n",
       "    </tr>\n",
       "  </tbody>\n",
       "</table>\n",
       "<p>5 rows × 35 columns</p>\n",
       "</div>"
      ]
     },
     "execution_count": 8,
     "metadata": {},
     "output_type": "execute_result"
    }
   ],
   "execution_count": 8
  },
  {
   "metadata": {
    "ExecuteTime": {
     "end_time": "2024-04-10T08:17:19.816997Z",
     "start_time": "2024-04-10T08:17:19.796743Z"
    }
   },
   "cell_type": "code",
   "source": [
    "data['C_MID'] = (data['C_BID'] + data['C_ASK']) / 2\n",
    "data['P_MID'] = (data['P_BID'] + data['P_ASK']) / 2\n",
    "data.head()"
   ],
   "id": "cb90901997ee1038",
   "outputs": [
    {
     "data": {
      "text/plain": [
       "   QUOTE_UNIXTIME      QUOTE_READTIME QUOTE_DATE  QUOTE_TIME_HOURS  \\\n",
       "0      1556740800 2019-05-01 16:00:00 2019-05-01              16.0   \n",
       "1      1556740800 2019-05-01 16:00:00 2019-05-01              16.0   \n",
       "2      1556740800 2019-05-01 16:00:00 2019-05-01              16.0   \n",
       "3      1556740800 2019-05-01 16:00:00 2019-05-01              16.0   \n",
       "4      1556740800 2019-05-01 16:00:00 2019-05-01              16.0   \n",
       "\n",
       "   UNDERLYING_LAST EXPIRE_DATE  EXPIRE_UNIX  DTE  C_DELTA  C_GAMMA  ...  \\\n",
       "0           233.98  2019-05-03   1556913600  2.0  0.98465  0.00055  ...   \n",
       "1           233.98  2019-05-03   1556913600  2.0  0.98371  0.00067  ...   \n",
       "2           233.98  2019-05-03   1556913600  2.0  0.98458  0.00069  ...   \n",
       "3           233.98  2019-05-03   1556913600  2.0  0.99187  0.00049  ...   \n",
       "4           233.98  2019-05-03   1556913600  2.0  0.99341  0.00039  ...   \n",
       "\n",
       "   P_THETA    P_RHO     P_IV  P_VOLUME  STRIKE_DISTANCE  STRIKE_DISTANCE_PCT  \\\n",
       "0 -0.00975  0.00000  2.22548     147.0            104.0                0.444   \n",
       "1 -0.01010 -0.00001  2.08349      12.0             99.0                0.423   \n",
       "2 -0.01435  0.00000  2.02359      15.0             94.0                0.402   \n",
       "3 -0.01465  0.00000  1.89504       0.0             89.0                0.380   \n",
       "4 -0.01467  0.00000  1.76812      91.0             84.0                0.359   \n",
       "\n",
       "  LOG_RETURNS  REALIZED_VOL    C_MID  P_MID  \n",
       "0    -0.01993         0.124  104.400  0.010  \n",
       "1    -0.01993         0.124   99.400  0.015  \n",
       "2    -0.01993         0.124   94.325  0.020  \n",
       "3    -0.01993         0.124   89.125  0.020  \n",
       "4    -0.01993         0.124   84.070  0.015  \n",
       "\n",
       "[5 rows x 37 columns]"
      ],
      "text/html": [
       "<div>\n",
       "<style scoped>\n",
       "    .dataframe tbody tr th:only-of-type {\n",
       "        vertical-align: middle;\n",
       "    }\n",
       "\n",
       "    .dataframe tbody tr th {\n",
       "        vertical-align: top;\n",
       "    }\n",
       "\n",
       "    .dataframe thead th {\n",
       "        text-align: right;\n",
       "    }\n",
       "</style>\n",
       "<table border=\"1\" class=\"dataframe\">\n",
       "  <thead>\n",
       "    <tr style=\"text-align: right;\">\n",
       "      <th></th>\n",
       "      <th>QUOTE_UNIXTIME</th>\n",
       "      <th>QUOTE_READTIME</th>\n",
       "      <th>QUOTE_DATE</th>\n",
       "      <th>QUOTE_TIME_HOURS</th>\n",
       "      <th>UNDERLYING_LAST</th>\n",
       "      <th>EXPIRE_DATE</th>\n",
       "      <th>EXPIRE_UNIX</th>\n",
       "      <th>DTE</th>\n",
       "      <th>C_DELTA</th>\n",
       "      <th>C_GAMMA</th>\n",
       "      <th>...</th>\n",
       "      <th>P_THETA</th>\n",
       "      <th>P_RHO</th>\n",
       "      <th>P_IV</th>\n",
       "      <th>P_VOLUME</th>\n",
       "      <th>STRIKE_DISTANCE</th>\n",
       "      <th>STRIKE_DISTANCE_PCT</th>\n",
       "      <th>LOG_RETURNS</th>\n",
       "      <th>REALIZED_VOL</th>\n",
       "      <th>C_MID</th>\n",
       "      <th>P_MID</th>\n",
       "    </tr>\n",
       "  </thead>\n",
       "  <tbody>\n",
       "    <tr>\n",
       "      <th>0</th>\n",
       "      <td>1556740800</td>\n",
       "      <td>2019-05-01 16:00:00</td>\n",
       "      <td>2019-05-01</td>\n",
       "      <td>16.0</td>\n",
       "      <td>233.98</td>\n",
       "      <td>2019-05-03</td>\n",
       "      <td>1556913600</td>\n",
       "      <td>2.0</td>\n",
       "      <td>0.98465</td>\n",
       "      <td>0.00055</td>\n",
       "      <td>...</td>\n",
       "      <td>-0.00975</td>\n",
       "      <td>0.00000</td>\n",
       "      <td>2.22548</td>\n",
       "      <td>147.0</td>\n",
       "      <td>104.0</td>\n",
       "      <td>0.444</td>\n",
       "      <td>-0.01993</td>\n",
       "      <td>0.124</td>\n",
       "      <td>104.400</td>\n",
       "      <td>0.010</td>\n",
       "    </tr>\n",
       "    <tr>\n",
       "      <th>1</th>\n",
       "      <td>1556740800</td>\n",
       "      <td>2019-05-01 16:00:00</td>\n",
       "      <td>2019-05-01</td>\n",
       "      <td>16.0</td>\n",
       "      <td>233.98</td>\n",
       "      <td>2019-05-03</td>\n",
       "      <td>1556913600</td>\n",
       "      <td>2.0</td>\n",
       "      <td>0.98371</td>\n",
       "      <td>0.00067</td>\n",
       "      <td>...</td>\n",
       "      <td>-0.01010</td>\n",
       "      <td>-0.00001</td>\n",
       "      <td>2.08349</td>\n",
       "      <td>12.0</td>\n",
       "      <td>99.0</td>\n",
       "      <td>0.423</td>\n",
       "      <td>-0.01993</td>\n",
       "      <td>0.124</td>\n",
       "      <td>99.400</td>\n",
       "      <td>0.015</td>\n",
       "    </tr>\n",
       "    <tr>\n",
       "      <th>2</th>\n",
       "      <td>1556740800</td>\n",
       "      <td>2019-05-01 16:00:00</td>\n",
       "      <td>2019-05-01</td>\n",
       "      <td>16.0</td>\n",
       "      <td>233.98</td>\n",
       "      <td>2019-05-03</td>\n",
       "      <td>1556913600</td>\n",
       "      <td>2.0</td>\n",
       "      <td>0.98458</td>\n",
       "      <td>0.00069</td>\n",
       "      <td>...</td>\n",
       "      <td>-0.01435</td>\n",
       "      <td>0.00000</td>\n",
       "      <td>2.02359</td>\n",
       "      <td>15.0</td>\n",
       "      <td>94.0</td>\n",
       "      <td>0.402</td>\n",
       "      <td>-0.01993</td>\n",
       "      <td>0.124</td>\n",
       "      <td>94.325</td>\n",
       "      <td>0.020</td>\n",
       "    </tr>\n",
       "    <tr>\n",
       "      <th>3</th>\n",
       "      <td>1556740800</td>\n",
       "      <td>2019-05-01 16:00:00</td>\n",
       "      <td>2019-05-01</td>\n",
       "      <td>16.0</td>\n",
       "      <td>233.98</td>\n",
       "      <td>2019-05-03</td>\n",
       "      <td>1556913600</td>\n",
       "      <td>2.0</td>\n",
       "      <td>0.99187</td>\n",
       "      <td>0.00049</td>\n",
       "      <td>...</td>\n",
       "      <td>-0.01465</td>\n",
       "      <td>0.00000</td>\n",
       "      <td>1.89504</td>\n",
       "      <td>0.0</td>\n",
       "      <td>89.0</td>\n",
       "      <td>0.380</td>\n",
       "      <td>-0.01993</td>\n",
       "      <td>0.124</td>\n",
       "      <td>89.125</td>\n",
       "      <td>0.020</td>\n",
       "    </tr>\n",
       "    <tr>\n",
       "      <th>4</th>\n",
       "      <td>1556740800</td>\n",
       "      <td>2019-05-01 16:00:00</td>\n",
       "      <td>2019-05-01</td>\n",
       "      <td>16.0</td>\n",
       "      <td>233.98</td>\n",
       "      <td>2019-05-03</td>\n",
       "      <td>1556913600</td>\n",
       "      <td>2.0</td>\n",
       "      <td>0.99341</td>\n",
       "      <td>0.00039</td>\n",
       "      <td>...</td>\n",
       "      <td>-0.01467</td>\n",
       "      <td>0.00000</td>\n",
       "      <td>1.76812</td>\n",
       "      <td>91.0</td>\n",
       "      <td>84.0</td>\n",
       "      <td>0.359</td>\n",
       "      <td>-0.01993</td>\n",
       "      <td>0.124</td>\n",
       "      <td>84.070</td>\n",
       "      <td>0.015</td>\n",
       "    </tr>\n",
       "  </tbody>\n",
       "</table>\n",
       "<p>5 rows × 37 columns</p>\n",
       "</div>"
      ]
     },
     "execution_count": 9,
     "metadata": {},
     "output_type": "execute_result"
    }
   ],
   "execution_count": 9
  },
  {
   "metadata": {
    "ExecuteTime": {
     "end_time": "2024-04-10T08:17:19.834019Z",
     "start_time": "2024-04-10T08:17:19.818715Z"
    }
   },
   "cell_type": "code",
   "source": "data['REALIZED_VOL'].unique()",
   "id": "65da7da58cd73899",
   "outputs": [
    {
     "data": {
      "text/plain": [
       "array([0.12400049, 0.1544875 , 0.17575756, ..., 0.11863259, 0.12330856,\n",
       "       0.12250695])"
      ]
     },
     "execution_count": 10,
     "metadata": {},
     "output_type": "execute_result"
    }
   ],
   "execution_count": 10
  },
  {
   "metadata": {
    "ExecuteTime": {
     "end_time": "2024-04-10T08:17:19.836856Z",
     "start_time": "2024-04-10T08:17:19.834560Z"
    }
   },
   "cell_type": "code",
   "source": [
    "# Split the data into training and testing sets (assuming the data is already sorted by date)\n",
    "split_index = int(len(data) * 0.75) # may need to adjust to increase it\n",
    "train_data = data.iloc[:split_index]\n",
    "test_data = data.iloc[split_index:]\n",
    "\n",
    "# Verify the shape of the training and testing sets\n",
    "print(\"Training data shape:\", train_data.shape)\n",
    "print(\"Testing data shape:\", test_data.shape)"
   ],
   "id": "81ad77210239bf86",
   "outputs": [
    {
     "name": "stdout",
     "output_type": "stream",
     "text": [
      "Training data shape: (1994444, 37)\n",
      "Testing data shape: (664815, 37)\n"
     ]
    }
   ],
   "execution_count": 11
  },
  {
   "metadata": {},
   "cell_type": "markdown",
   "source": "Now, I want to parse for ATM strikes. To do this, I will only be looking at options where the delta is between 45-55, or -45 to -55.",
   "id": "bacc11516992484b"
  },
  {
   "metadata": {
    "ExecuteTime": {
     "end_time": "2024-04-10T08:17:19.889540Z",
     "start_time": "2024-04-10T08:17:19.837561Z"
    }
   },
   "cell_type": "code",
   "source": [
    "# Select relevant columns\n",
    "# selected_columns = ['QUOTE_DATE', 'DTE', 'C_DELTA', 'C_IV', 'STRIKE', 'P_DELTA', 'P_IV', 'UNDERLYING_LAST', 'C_MID', 'P_MID', 'REALIZED_VOL']\n",
    "selected_features = ['QUOTE_DATE', 'DTE', 'UNDERLYING_LAST', 'STRIKE', 'C_MID', 'REALIZED_VOL']\n",
    "\n",
    "# Filter data to include only ATM options (where delta is closest to 0.5)\n",
    "# Ensure column names match exactly what's in the DataFrame\n",
    "atm_options = data[(data['C_DELTA'] >= 0.45) & (data['C_DELTA'] <= 0.55) & (data['P_DELTA'] >= -0.55) & (data['P_DELTA'] <= -0.45)]\n",
    "\n",
    "# Display the first few rows of the filtered DataFrame\n",
    "print(\"Number of rows in atm_options:\", len(atm_options))\n",
    "print(atm_options.head())\n",
    "print(atm_options.tail())"
   ],
   "id": "a902719813555601",
   "outputs": [
    {
     "name": "stdout",
     "output_type": "stream",
     "text": [
      "Number of rows in atm_options: 119965\n",
      "     QUOTE_UNIXTIME      QUOTE_READTIME QUOTE_DATE  QUOTE_TIME_HOURS  \\\n",
      "27       1556740800 2019-05-01 16:00:00 2019-05-01              16.0   \n",
      "98       1556740800 2019-05-01 16:00:00 2019-05-01              16.0   \n",
      "99       1556740800 2019-05-01 16:00:00 2019-05-01              16.0   \n",
      "181      1556740800 2019-05-01 16:00:00 2019-05-01              16.0   \n",
      "275      1556740800 2019-05-01 16:00:00 2019-05-01              16.0   \n",
      "\n",
      "     UNDERLYING_LAST EXPIRE_DATE  EXPIRE_UNIX   DTE  C_DELTA  C_GAMMA  ...  \\\n",
      "27            233.98  2019-05-03   1556913600   2.0  0.46754  0.04011  ...   \n",
      "98            233.98  2019-05-10   1557518400   9.0  0.54695  0.01962  ...   \n",
      "99            233.98  2019-05-10   1557518400   9.0  0.49653  0.02035  ...   \n",
      "181           233.98  2019-05-17   1558123200  16.0  0.50681  0.01542  ...   \n",
      "275           233.98  2019-05-24   1558728000  23.0  0.54600  0.01265  ...   \n",
      "\n",
      "     P_THETA    P_RHO     P_IV  P_VOLUME  STRIKE_DISTANCE  \\\n",
      "27  -0.74779 -0.00943  0.45695       NaN              1.0   \n",
      "98  -0.40764 -0.02923  0.51013     903.0              1.5   \n",
      "99  -0.39408 -0.03208  0.49025       NaN              1.0   \n",
      "181 -0.30326 -0.05516  0.50007       NaN              1.0   \n",
      "275 -0.25555 -0.07316  0.50871     101.0              1.5   \n",
      "\n",
      "     STRIKE_DISTANCE_PCT LOG_RETURNS  REALIZED_VOL   C_MID   P_MID  \n",
      "27                 0.004    -0.01993         0.124   3.465   4.220  \n",
      "98                 0.006    -0.01993         0.124   8.800   7.025  \n",
      "99                 0.004    -0.01993         0.124   7.355   8.000  \n",
      "181                0.004    -0.01993         0.124   9.850  10.530  \n",
      "275                0.006    -0.01993         0.124  13.180  11.320  \n",
      "\n",
      "[5 rows x 37 columns]\n",
      "         QUOTE_UNIXTIME      QUOTE_READTIME QUOTE_DATE  QUOTE_TIME_HOURS  \\\n",
      "2659132      1567195200 2019-08-30 16:00:00 2019-08-30              16.0   \n",
      "2659133      1567195200 2019-08-30 16:00:00 2019-08-30              16.0   \n",
      "2659228      1567195200 2019-08-30 16:00:00 2019-08-30              16.0   \n",
      "2659229      1567195200 2019-08-30 16:00:00 2019-08-30              16.0   \n",
      "2659230      1567195200 2019-08-30 16:00:00 2019-08-30              16.0   \n",
      "\n",
      "         UNDERLYING_LAST EXPIRE_DATE  EXPIRE_UNIX     DTE  C_DELTA  C_GAMMA  \\\n",
      "2659132            225.6  2021-01-15   1610744400  504.04  0.48702  0.00288   \n",
      "2659133            225.6  2021-01-15   1610744400  504.04  0.47255  0.00295   \n",
      "2659228            225.6  2021-06-18   1624046400  658.00  0.52917  0.00249   \n",
      "2659229            225.6  2021-06-18   1624046400  658.00  0.50362  0.00247   \n",
      "2659230            225.6  2021-06-18   1624046400  658.00  0.47949  0.00257   \n",
      "\n",
      "         ...  P_THETA    P_RHO     P_IV  P_VOLUME  STRIKE_DISTANCE  \\\n",
      "2659132  ... -0.05129 -2.68428  0.44670       0.0             39.4   \n",
      "2659133  ... -0.05128 -2.77941  0.44128       NaN             44.4   \n",
      "2659228  ... -0.04584 -3.39490  0.45438       9.0             34.4   \n",
      "2659229  ... -0.04498 -3.62555  0.44503       1.0             44.4   \n",
      "2659230  ... -0.04465 -3.86142  0.43492       0.0             54.4   \n",
      "\n",
      "         STRIKE_DISTANCE_PCT LOG_RETURNS  REALIZED_VOL  C_MID   P_MID  \n",
      "2659132                0.175    0.017438      0.122507  37.58  76.025  \n",
      "2659133                0.197    0.017438      0.122507  35.86  79.145  \n",
      "2659228                0.152    0.017438      0.122507  47.40  80.620  \n",
      "2659229                0.197    0.017438      0.122507  43.65  86.945  \n",
      "2659230                0.241    0.017438      0.122507  40.25  93.300  \n",
      "\n",
      "[5 rows x 37 columns]\n"
     ]
    }
   ],
   "execution_count": 12
  },
  {
   "metadata": {
    "ExecuteTime": {
     "end_time": "2024-04-10T08:17:19.916921Z",
     "start_time": "2024-04-10T08:17:19.890146Z"
    }
   },
   "cell_type": "code",
   "source": [
    "# some rows have missing values for C_VOLUME and P_VOLUME\n",
    "# Count the number of rows where 'P_VOLUME' is exactly zero\n",
    "zero_count = (atm_options['REALIZED_VOL'] == 0).sum()\n",
    "\n",
    "# Count the number of rows where 'P_VOLUME' is missing (NaN)\n",
    "missing_count = atm_options['REALIZED_VOL'].isna().sum()\n",
    "\n",
    "print(f\"Number of rows where 'REALIZED_VOL' is zero: {zero_count}\")\n",
    "print(f\"Number of rows where 'REALIZED_VOL' is missing: {missing_count}\")\n",
    "\n",
    "# lets set them to zero for now (may need to find some other way to deal with this)\n",
    "# data['C_VOLUME'].fillna(0, inplace=True)\n",
    "# data['P_VOLUME'].fillna(0, inplace=True)\n",
    "atm_options = atm_options.dropna() # TODO: only drop rows where cols we care about are missing"
   ],
   "id": "55e48e1c21bfdeef",
   "outputs": [
    {
     "name": "stdout",
     "output_type": "stream",
     "text": [
      "Number of rows where 'REALIZED_VOL' is zero: 0\n",
      "Number of rows where 'REALIZED_VOL' is missing: 733\n"
     ]
    }
   ],
   "execution_count": 13
  },
  {
   "metadata": {
    "ExecuteTime": {
     "end_time": "2024-04-10T08:17:19.920245Z",
     "start_time": "2024-04-10T08:17:19.917671Z"
    }
   },
   "cell_type": "code",
   "source": "atm_options['REALIZED_VOL'].shape",
   "id": "1fb7847bbff3d012",
   "outputs": [
    {
     "data": {
      "text/plain": [
       "(98976,)"
      ]
     },
     "execution_count": 14,
     "metadata": {},
     "output_type": "execute_result"
    }
   ],
   "execution_count": 14
  },
  {
   "metadata": {},
   "cell_type": "markdown",
   "source": "### Data Normalization",
   "id": "615cef473571abc3"
  },
  {
   "metadata": {
    "ExecuteTime": {
     "end_time": "2024-04-10T08:17:19.941556Z",
     "start_time": "2024-04-10T08:17:19.921316Z"
    }
   },
   "cell_type": "code",
   "source": "from sklearn.preprocessing import MinMaxScaler",
   "id": "f671ec4420834b8e",
   "outputs": [],
   "execution_count": 15
  },
  {
   "metadata": {
    "ExecuteTime": {
     "end_time": "2024-04-10T08:17:20.013921Z",
     "start_time": "2024-04-10T08:17:19.942465Z"
    }
   },
   "cell_type": "code",
   "source": [
    "# TODO: will need to train once for PUTs and once for CALLs, let's do CALLS first.\n",
    "selected_features = ['DTE', 'UNDERLYING_LAST', 'STRIKE', 'C_MID', 'REALIZED_VOL']\n",
    "output_feature_index = selected_features.index('REALIZED_VOL')  # Get index of REALIZED_VOL\n",
    "\n",
    "print(\"Shape of atm_options:\", atm_options.shape)\n",
    "print(\"Selected features:\", selected_features)\n",
    "print(\"Number of rows in atm_options after filtering:\", len(atm_options))\n",
    "\n",
    "# Normalize the data using MinMaxScaler\n",
    "scaler = MinMaxScaler()\n",
    "scaled_data = scaler.fit_transform(atm_options[selected_features])\n",
    "\n",
    "# Extract dates for indexing in plots\n",
    "dates = atm_options['QUOTE_UNIXTIME'].values\n",
    "\n",
    "# Organize the data into sequences with a variable length\n",
    "X_train = []\n",
    "y_train = []\n",
    "dates_train = []\n",
    "sequence_length = window_size\n",
    "\n",
    "\n",
    "for i in range(len(scaled_data) - sequence_length):\n",
    "    X_train.append(scaled_data[i:i+sequence_length])  # Skip date in features\n",
    "    y_train.append(scaled_data[i + sequence_length, output_feature_index])\n",
    "    dates_train.append(dates[i + sequence_length])  # Save date for each y value\n",
    "\n",
    "# Convert list of numpy arrays to numpy arrays and then to tensors\n",
    "X_train_np = np.array(X_train)\n",
    "y_train_np = np.array(y_train)\n",
    "dates_train_np = np.array(dates_train)  # Assuming dates are already in a suitable format\n",
    "\n",
    "X = torch.tensor(X_train_np, dtype=torch.float32)\n",
    "y = torch.tensor(y_train_np, dtype=torch.float32)\n",
    "# Print the shape of X and y to verify\n",
    "print(\"Shape of X:\", X.shape)\n",
    "print(\"Shape of y:\", y.shape)"
   ],
   "id": "601fc06863bad468",
   "outputs": [
    {
     "name": "stdout",
     "output_type": "stream",
     "text": [
      "Shape of atm_options: (98976, 37)\n",
      "Selected features: ['DTE', 'UNDERLYING_LAST', 'STRIKE', 'C_MID', 'REALIZED_VOL']\n",
      "Number of rows in atm_options after filtering: 98976\n",
      "Shape of X: torch.Size([98966, 10, 5])\n",
      "Shape of y: torch.Size([98966])\n"
     ]
    }
   ],
   "execution_count": 16
  },
  {
   "metadata": {},
   "cell_type": "markdown",
   "source": [
    "## Neural Network Implementation\n",
    "Will need to train one model for calls and one for puts\n",
    "Features:\n",
    "- historical volatility\n",
    "- log returns (?)\n",
    "- underlying price\n",
    "- option price (bid/ask)\n",
    "- strike price\n",
    "- DTE (days till expiration)\n",
    "- volume (?)\n",
    "- delta (?)\n",
    "\n",
    "Loss function: MSE"
   ],
   "id": "6ece4585db2fbfcd"
  },
  {
   "metadata": {
    "ExecuteTime": {
     "end_time": "2024-04-10T08:17:20.018572Z",
     "start_time": "2024-04-10T08:17:20.014506Z"
    }
   },
   "cell_type": "code",
   "source": [
    "import torch\n",
    "import torch.nn as nn\n",
    "import torch.optim as optim\n",
    "\n",
    "class VolNet(nn.Module):\n",
    "    def __init__(self, num_inputs):\n",
    "        super(VolNet, self).__init__()\n",
    "        self.num_inputs = num_inputs\n",
    "        self.num_layers = 2\n",
    "        self.hidden_size = 32\n",
    "        self.num_outputs = 1\n",
    "        \n",
    "        self.lstm = nn.LSTM(input_size=num_inputs, hidden_size=self.hidden_size, num_layers=self.num_layers, batch_first=True) # up to 3 layers for LSTM\n",
    "        self.dense = nn.Linear(in_features=self.hidden_size, out_features=self.num_outputs) # fully-connected layer\n",
    "        \n",
    "        # self.last_h = self.initHidden()\n",
    "        # self.last_c = self.initHidden()\n",
    "        \n",
    "    def forward(self, x):\n",
    "        # x should be of shape (batch, sequence, features)\n",
    "        batch_size = x.shape[0]\n",
    "        lstm_out, (hn, cn) = self.lstm(x, (self.initHidden(batch_size), self.initHidden(batch_size)))\n",
    "        # self.last_h, self.last_c = hn, cn\n",
    "        last_time_step_out = lstm_out[:, -1, :]  # Use the output from the last time step\n",
    "        return self.dense(last_time_step_out)\n",
    "    \n",
    "    def initHidden(self, batch_size):\n",
    "        if not batch_size:\n",
    "            batch_size = self.hidden_size * self.num_layers\n",
    "        return torch.zeros(self.num_layers, batch_size, self.hidden_size).requires_grad_()\n",
    "        \n",
    "model = VolNet(num_inputs=len(selected_features)) # Adjust num_inputs based on your feature count"
   ],
   "id": "8b8c8ccc7411429b",
   "outputs": [],
   "execution_count": 17
  },
  {
   "metadata": {
    "ExecuteTime": {
     "end_time": "2024-04-10T08:22:34.387372Z",
     "start_time": "2024-04-10T08:21:31.741499Z"
    }
   },
   "cell_type": "code",
   "source": [
    "from torch.utils.data import TensorDataset, DataLoader\n",
    "\n",
    "\n",
    "criterion = nn.MSELoss()\n",
    "optimizer = optim.Adam(model.parameters(), lr=0.001)\n",
    "\n",
    "# Create DataLoader\n",
    "batch_size = 128\n",
    "\n",
    "# Training Loop\n",
    "num_epochs = 20\n",
    "\n",
    "training_set = TensorDataset(X, y)\n",
    "train_loader = DataLoader(training_set, batch_size=128, shuffle=True)\n",
    "\n",
    "# Variables to store performance metrics\n",
    "predictions, actuals, times = [], [], []\n",
    "\n",
    "# Training loop\n",
    "for epoch in range(num_epochs):  # Assuming num_epochs is 20\n",
    "    model.train()\n",
    "    total_loss = 0\n",
    "    for inputs, labels in train_loader:\n",
    "        optimizer.zero_grad()\n",
    "\n",
    "        # Make predictions\n",
    "        outputs = model(inputs)\n",
    "        predictions.extend(outputs.detach().numpy().flatten())  # Store predictions\n",
    "        actuals.extend(labels.numpy())  # Store actual values\n",
    "        total_loss += criterion(outputs, labels.unsqueeze(1)).item()\n",
    "\n",
    "        # Backpropagate and update model\n",
    "        loss = criterion(outputs, labels.unsqueeze(1))\n",
    "        loss.backward()\n",
    "        optimizer.step()\n",
    "\n",
    "    avg_loss = total_loss / len(train_loader)\n",
    "    print(f'Epoch {epoch + 1}, Loss: {avg_loss:.9f}')\n",
    "\n",
    "# Convert lists to numpy arrays for easier plotting\n",
    "predictions = np.array(predictions)\n",
    "actuals = np.array(actuals)\n"
   ],
   "id": "9b62406766e66295",
   "outputs": [
    {
     "name": "stdout",
     "output_type": "stream",
     "text": [
      "Epoch 1, Loss: 0.000040467\n",
      "Epoch 2, Loss: 0.000043299\n",
      "Epoch 3, Loss: 0.000042166\n",
      "Epoch 4, Loss: 0.000041186\n",
      "Epoch 5, Loss: 0.000042482\n",
      "Epoch 6, Loss: 0.000040966\n",
      "Epoch 7, Loss: 0.000041848\n",
      "Epoch 8, Loss: 0.000041353\n",
      "Epoch 9, Loss: 0.000041921\n",
      "Epoch 10, Loss: 0.000040801\n",
      "Epoch 11, Loss: 0.000040574\n",
      "Epoch 12, Loss: 0.000040969\n",
      "Epoch 13, Loss: 0.000040985\n",
      "Epoch 14, Loss: 0.000040828\n",
      "Epoch 15, Loss: 0.000041252\n",
      "Epoch 16, Loss: 0.000040660\n",
      "Epoch 17, Loss: 0.000041030\n",
      "Epoch 18, Loss: 0.000039559\n",
      "Epoch 19, Loss: 0.000040668\n",
      "Epoch 20, Loss: 0.000041131\n"
     ]
    }
   ],
   "execution_count": 20
  },
  {
   "metadata": {
    "ExecuteTime": {
     "end_time": "2024-04-10T08:25:43.708860Z",
     "start_time": "2024-04-10T08:25:43.505938Z"
    }
   },
   "cell_type": "code",
   "source": [
    "# Assuming dates_train_np holds the timestamps and you have a window_size (or sequence_length)\n",
    "adjusted_dates = dates_train_np[sequence_length - 1:]  # Skip the first sequence_length - 1 timestamps\n",
    "\n",
    "# Plotting actual vs predicted realized volatility\n",
    "plt.figure(figsize=(12, 6))\n",
    "plt.plot(adjusted_dates, actuals, label='Actual Realized Volatility', marker='o', linestyle='-')\n",
    "plt.plot(adjusted_dates, predictions, label='Predicted Realized Volatility', marker='x', linestyle='--')\n",
    "plt.title('Actual vs Predicted Realized Volatility Over Time')\n",
    "plt.xlabel('Time')\n",
    "plt.ylabel('Realized Volatility')\n",
    "plt.legend()\n",
    "plt.gcf().autofmt_xdate()  # Improve formatting of date labels\n",
    "plt.show()"
   ],
   "id": "6f2ae3f4f0bb8150",
   "outputs": [
    {
     "ename": "ValueError",
     "evalue": "x and y must have same first dimension, but have shapes (98957,) and (1979320,)",
     "output_type": "error",
     "traceback": [
      "\u001B[0;31m---------------------------------------------------------------------------\u001B[0m",
      "\u001B[0;31mValueError\u001B[0m                                Traceback (most recent call last)",
      "Cell \u001B[0;32mIn[23], line 6\u001B[0m\n\u001B[1;32m      4\u001B[0m \u001B[38;5;66;03m# Plotting actual vs predicted realized volatility\u001B[39;00m\n\u001B[1;32m      5\u001B[0m plt\u001B[38;5;241m.\u001B[39mfigure(figsize\u001B[38;5;241m=\u001B[39m(\u001B[38;5;241m12\u001B[39m, \u001B[38;5;241m6\u001B[39m))\n\u001B[0;32m----> 6\u001B[0m plt\u001B[38;5;241m.\u001B[39mplot(adjusted_dates, actuals, label\u001B[38;5;241m=\u001B[39m\u001B[38;5;124m'\u001B[39m\u001B[38;5;124mActual Realized Volatility\u001B[39m\u001B[38;5;124m'\u001B[39m, marker\u001B[38;5;241m=\u001B[39m\u001B[38;5;124m'\u001B[39m\u001B[38;5;124mo\u001B[39m\u001B[38;5;124m'\u001B[39m, linestyle\u001B[38;5;241m=\u001B[39m\u001B[38;5;124m'\u001B[39m\u001B[38;5;124m-\u001B[39m\u001B[38;5;124m'\u001B[39m)\n\u001B[1;32m      7\u001B[0m plt\u001B[38;5;241m.\u001B[39mplot(adjusted_dates, predictions, label\u001B[38;5;241m=\u001B[39m\u001B[38;5;124m'\u001B[39m\u001B[38;5;124mPredicted Realized Volatility\u001B[39m\u001B[38;5;124m'\u001B[39m, marker\u001B[38;5;241m=\u001B[39m\u001B[38;5;124m'\u001B[39m\u001B[38;5;124mx\u001B[39m\u001B[38;5;124m'\u001B[39m, linestyle\u001B[38;5;241m=\u001B[39m\u001B[38;5;124m'\u001B[39m\u001B[38;5;124m--\u001B[39m\u001B[38;5;124m'\u001B[39m)\n\u001B[1;32m      8\u001B[0m plt\u001B[38;5;241m.\u001B[39mtitle(\u001B[38;5;124m'\u001B[39m\u001B[38;5;124mActual vs Predicted Realized Volatility Over Time\u001B[39m\u001B[38;5;124m'\u001B[39m)\n",
      "File \u001B[0;32m~/anaconda3/lib/python3.11/site-packages/matplotlib/pyplot.py:3578\u001B[0m, in \u001B[0;36mplot\u001B[0;34m(scalex, scaley, data, *args, **kwargs)\u001B[0m\n\u001B[1;32m   3570\u001B[0m \u001B[38;5;129m@_copy_docstring_and_deprecators\u001B[39m(Axes\u001B[38;5;241m.\u001B[39mplot)\n\u001B[1;32m   3571\u001B[0m \u001B[38;5;28;01mdef\u001B[39;00m \u001B[38;5;21mplot\u001B[39m(\n\u001B[1;32m   3572\u001B[0m     \u001B[38;5;241m*\u001B[39margs: \u001B[38;5;28mfloat\u001B[39m \u001B[38;5;241m|\u001B[39m ArrayLike \u001B[38;5;241m|\u001B[39m \u001B[38;5;28mstr\u001B[39m,\n\u001B[0;32m   (...)\u001B[0m\n\u001B[1;32m   3576\u001B[0m     \u001B[38;5;241m*\u001B[39m\u001B[38;5;241m*\u001B[39mkwargs,\n\u001B[1;32m   3577\u001B[0m ) \u001B[38;5;241m-\u001B[39m\u001B[38;5;241m>\u001B[39m \u001B[38;5;28mlist\u001B[39m[Line2D]:\n\u001B[0;32m-> 3578\u001B[0m     \u001B[38;5;28;01mreturn\u001B[39;00m gca()\u001B[38;5;241m.\u001B[39mplot(\n\u001B[1;32m   3579\u001B[0m         \u001B[38;5;241m*\u001B[39margs,\n\u001B[1;32m   3580\u001B[0m         scalex\u001B[38;5;241m=\u001B[39mscalex,\n\u001B[1;32m   3581\u001B[0m         scaley\u001B[38;5;241m=\u001B[39mscaley,\n\u001B[1;32m   3582\u001B[0m         \u001B[38;5;241m*\u001B[39m\u001B[38;5;241m*\u001B[39m({\u001B[38;5;124m\"\u001B[39m\u001B[38;5;124mdata\u001B[39m\u001B[38;5;124m\"\u001B[39m: data} \u001B[38;5;28;01mif\u001B[39;00m data \u001B[38;5;129;01mis\u001B[39;00m \u001B[38;5;129;01mnot\u001B[39;00m \u001B[38;5;28;01mNone\u001B[39;00m \u001B[38;5;28;01melse\u001B[39;00m {}),\n\u001B[1;32m   3583\u001B[0m         \u001B[38;5;241m*\u001B[39m\u001B[38;5;241m*\u001B[39mkwargs,\n\u001B[1;32m   3584\u001B[0m     )\n",
      "File \u001B[0;32m~/anaconda3/lib/python3.11/site-packages/matplotlib/axes/_axes.py:1721\u001B[0m, in \u001B[0;36mAxes.plot\u001B[0;34m(self, scalex, scaley, data, *args, **kwargs)\u001B[0m\n\u001B[1;32m   1478\u001B[0m \u001B[38;5;250m\u001B[39m\u001B[38;5;124;03m\"\"\"\u001B[39;00m\n\u001B[1;32m   1479\u001B[0m \u001B[38;5;124;03mPlot y versus x as lines and/or markers.\u001B[39;00m\n\u001B[1;32m   1480\u001B[0m \n\u001B[0;32m   (...)\u001B[0m\n\u001B[1;32m   1718\u001B[0m \u001B[38;5;124;03m(``'green'``) or hex strings (``'#008000'``).\u001B[39;00m\n\u001B[1;32m   1719\u001B[0m \u001B[38;5;124;03m\"\"\"\u001B[39;00m\n\u001B[1;32m   1720\u001B[0m kwargs \u001B[38;5;241m=\u001B[39m cbook\u001B[38;5;241m.\u001B[39mnormalize_kwargs(kwargs, mlines\u001B[38;5;241m.\u001B[39mLine2D)\n\u001B[0;32m-> 1721\u001B[0m lines \u001B[38;5;241m=\u001B[39m [\u001B[38;5;241m*\u001B[39m\u001B[38;5;28mself\u001B[39m\u001B[38;5;241m.\u001B[39m_get_lines(\u001B[38;5;28mself\u001B[39m, \u001B[38;5;241m*\u001B[39margs, data\u001B[38;5;241m=\u001B[39mdata, \u001B[38;5;241m*\u001B[39m\u001B[38;5;241m*\u001B[39mkwargs)]\n\u001B[1;32m   1722\u001B[0m \u001B[38;5;28;01mfor\u001B[39;00m line \u001B[38;5;129;01min\u001B[39;00m lines:\n\u001B[1;32m   1723\u001B[0m     \u001B[38;5;28mself\u001B[39m\u001B[38;5;241m.\u001B[39madd_line(line)\n",
      "File \u001B[0;32m~/anaconda3/lib/python3.11/site-packages/matplotlib/axes/_base.py:303\u001B[0m, in \u001B[0;36m_process_plot_var_args.__call__\u001B[0;34m(self, axes, data, *args, **kwargs)\u001B[0m\n\u001B[1;32m    301\u001B[0m     this \u001B[38;5;241m+\u001B[39m\u001B[38;5;241m=\u001B[39m args[\u001B[38;5;241m0\u001B[39m],\n\u001B[1;32m    302\u001B[0m     args \u001B[38;5;241m=\u001B[39m args[\u001B[38;5;241m1\u001B[39m:]\n\u001B[0;32m--> 303\u001B[0m \u001B[38;5;28;01myield from\u001B[39;00m \u001B[38;5;28mself\u001B[39m\u001B[38;5;241m.\u001B[39m_plot_args(\n\u001B[1;32m    304\u001B[0m     axes, this, kwargs, ambiguous_fmt_datakey\u001B[38;5;241m=\u001B[39mambiguous_fmt_datakey)\n",
      "File \u001B[0;32m~/anaconda3/lib/python3.11/site-packages/matplotlib/axes/_base.py:499\u001B[0m, in \u001B[0;36m_process_plot_var_args._plot_args\u001B[0;34m(self, axes, tup, kwargs, return_kwargs, ambiguous_fmt_datakey)\u001B[0m\n\u001B[1;32m    496\u001B[0m     axes\u001B[38;5;241m.\u001B[39myaxis\u001B[38;5;241m.\u001B[39mupdate_units(y)\n\u001B[1;32m    498\u001B[0m \u001B[38;5;28;01mif\u001B[39;00m x\u001B[38;5;241m.\u001B[39mshape[\u001B[38;5;241m0\u001B[39m] \u001B[38;5;241m!=\u001B[39m y\u001B[38;5;241m.\u001B[39mshape[\u001B[38;5;241m0\u001B[39m]:\n\u001B[0;32m--> 499\u001B[0m     \u001B[38;5;28;01mraise\u001B[39;00m \u001B[38;5;167;01mValueError\u001B[39;00m(\u001B[38;5;124mf\u001B[39m\u001B[38;5;124m\"\u001B[39m\u001B[38;5;124mx and y must have same first dimension, but \u001B[39m\u001B[38;5;124m\"\u001B[39m\n\u001B[1;32m    500\u001B[0m                      \u001B[38;5;124mf\u001B[39m\u001B[38;5;124m\"\u001B[39m\u001B[38;5;124mhave shapes \u001B[39m\u001B[38;5;132;01m{\u001B[39;00mx\u001B[38;5;241m.\u001B[39mshape\u001B[38;5;132;01m}\u001B[39;00m\u001B[38;5;124m and \u001B[39m\u001B[38;5;132;01m{\u001B[39;00my\u001B[38;5;241m.\u001B[39mshape\u001B[38;5;132;01m}\u001B[39;00m\u001B[38;5;124m\"\u001B[39m)\n\u001B[1;32m    501\u001B[0m \u001B[38;5;28;01mif\u001B[39;00m x\u001B[38;5;241m.\u001B[39mndim \u001B[38;5;241m>\u001B[39m \u001B[38;5;241m2\u001B[39m \u001B[38;5;129;01mor\u001B[39;00m y\u001B[38;5;241m.\u001B[39mndim \u001B[38;5;241m>\u001B[39m \u001B[38;5;241m2\u001B[39m:\n\u001B[1;32m    502\u001B[0m     \u001B[38;5;28;01mraise\u001B[39;00m \u001B[38;5;167;01mValueError\u001B[39;00m(\u001B[38;5;124mf\u001B[39m\u001B[38;5;124m\"\u001B[39m\u001B[38;5;124mx and y can be no greater than 2D, but have \u001B[39m\u001B[38;5;124m\"\u001B[39m\n\u001B[1;32m    503\u001B[0m                      \u001B[38;5;124mf\u001B[39m\u001B[38;5;124m\"\u001B[39m\u001B[38;5;124mshapes \u001B[39m\u001B[38;5;132;01m{\u001B[39;00mx\u001B[38;5;241m.\u001B[39mshape\u001B[38;5;132;01m}\u001B[39;00m\u001B[38;5;124m and \u001B[39m\u001B[38;5;132;01m{\u001B[39;00my\u001B[38;5;241m.\u001B[39mshape\u001B[38;5;132;01m}\u001B[39;00m\u001B[38;5;124m\"\u001B[39m)\n",
      "\u001B[0;31mValueError\u001B[0m: x and y must have same first dimension, but have shapes (98957,) and (1979320,)"
     ]
    },
    {
     "data": {
      "text/plain": [
       "<Figure size 1200x600 with 1 Axes>"
      ],
      "image/png": "[encoded data removed]"
     },
     "metadata": {},
     "output_type": "display_data"
    }
   ],
   "execution_count": 23
  },
  {
   "metadata": {
    "ExecuteTime": {
     "end_time": "2024-04-10T08:25:56.532362Z",
     "start_time": "2024-04-10T08:25:56.529699Z"
    }
   },
   "cell_type": "code",
   "source": " actuals.shape",
   "id": "e290c09d4ee2888c",
   "outputs": [
    {
     "data": {
      "text/plain": [
       "(1979320,)"
      ]
     },
     "execution_count": 25,
     "metadata": {},
     "output_type": "execute_result"
    }
   ],
   "execution_count": 25
  },
  {
   "metadata": {},
   "cell_type": "code",
   "outputs": [],
   "execution_count": null,
   "source": "",
   "id": "90b290bc93a27fcc"
  }
 ],
 "metadata": {
  "kernelspec": {
   "display_name": "Python 3",
   "language": "python",
   "name": "python3"
  },
  "language_info": {
   "codemirror_mode": {
    "name": "ipython",
    "version": 2
   },
   "file_extension": ".py",
   "mimetype": "text/x-python",
   "name": "python",
   "nbconvert_exporter": "python",
   "pygments_lexer": "ipython2",
   "version": "2.7.6"
  }
 },
 "nbformat": 4,
 "nbformat_minor": 5
}
